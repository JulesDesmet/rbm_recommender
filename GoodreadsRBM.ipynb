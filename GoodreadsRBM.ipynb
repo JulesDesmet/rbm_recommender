{
 "cells": [
  {
   "cell_type": "code",
   "execution_count": 89,
   "outputs": [
    {
     "name": "stdout",
     "output_type": "stream",
     "text": [
      "Requirement already satisfied: jupyter==1.0.0 in ./venv/lib/python3.9/site-packages (from -r requirements.txt (line 1)) (1.0.0)\r\n",
      "Requirement already satisfied: numpy==1.21.3 in ./venv/lib/python3.9/site-packages (from -r requirements.txt (line 2)) (1.21.3)\r\n",
      "Requirement already satisfied: matplotlib==3.4.3 in ./venv/lib/python3.9/site-packages (from -r requirements.txt (line 3)) (3.4.3)\r\n",
      "Requirement already satisfied: pandas==1.3.4 in ./venv/lib/python3.9/site-packages (from -r requirements.txt (line 4)) (1.3.4)\r\n",
      "Requirement already satisfied: scikit-learn==1.0.1 in ./venv/lib/python3.9/site-packages (from -r requirements.txt (line 5)) (1.0.1)\r\n",
      "Requirement already satisfied: tensorflow==2.7.0 in ./venv/lib/python3.9/site-packages (from -r requirements.txt (line 6)) (2.7.0)\r\n",
      "Requirement already satisfied: torch==1.10.0 in ./venv/lib/python3.9/site-packages (from -r requirements.txt (line 7)) (1.10.0)\r\n",
      "Requirement already satisfied: tqdm==4.62.3 in ./venv/lib/python3.9/site-packages (from -r requirements.txt (line 8)) (4.62.3)\r\n",
      "Requirement already satisfied: qtconsole in ./venv/lib/python3.9/site-packages (from jupyter==1.0.0->-r requirements.txt (line 1)) (5.1.1)\r\n",
      "Requirement already satisfied: notebook in ./venv/lib/python3.9/site-packages (from jupyter==1.0.0->-r requirements.txt (line 1)) (6.4.4)\r\n",
      "Requirement already satisfied: nbconvert in ./venv/lib/python3.9/site-packages (from jupyter==1.0.0->-r requirements.txt (line 1)) (6.2.0)\r\n",
      "Requirement already satisfied: ipykernel in ./venv/lib/python3.9/site-packages (from jupyter==1.0.0->-r requirements.txt (line 1)) (6.4.1)\r\n",
      "Requirement already satisfied: ipywidgets in ./venv/lib/python3.9/site-packages (from jupyter==1.0.0->-r requirements.txt (line 1)) (7.6.5)\r\n",
      "Requirement already satisfied: jupyter-console in ./venv/lib/python3.9/site-packages (from jupyter==1.0.0->-r requirements.txt (line 1)) (6.4.0)\r\n",
      "Requirement already satisfied: pillow>=6.2.0 in /home/jules/.local/lib/python3.9/site-packages (from matplotlib==3.4.3->-r requirements.txt (line 3)) (8.2.0)\r\n",
      "Requirement already satisfied: pyparsing>=2.2.1 in /home/jules/.local/lib/python3.9/site-packages (from matplotlib==3.4.3->-r requirements.txt (line 3)) (2.4.7)\r\n",
      "Requirement already satisfied: python-dateutil>=2.7 in /usr/lib/python3/dist-packages (from matplotlib==3.4.3->-r requirements.txt (line 3)) (2.7.3)\r\n",
      "Requirement already satisfied: cycler>=0.10 in /home/jules/.local/lib/python3.9/site-packages (from matplotlib==3.4.3->-r requirements.txt (line 3)) (0.10.0)\r\n",
      "Requirement already satisfied: kiwisolver>=1.0.1 in /home/jules/.local/lib/python3.9/site-packages (from matplotlib==3.4.3->-r requirements.txt (line 3)) (1.3.1)\r\n",
      "Requirement already satisfied: pytz>=2017.3 in /usr/lib/python3/dist-packages (from pandas==1.3.4->-r requirements.txt (line 4)) (2019.3)\r\n",
      "Requirement already satisfied: scipy>=1.1.0 in /home/jules/.local/lib/python3.9/site-packages (from scikit-learn==1.0.1->-r requirements.txt (line 5)) (1.6.3)\r\n",
      "Requirement already satisfied: joblib>=0.11 in /home/jules/.local/lib/python3.9/site-packages (from scikit-learn==1.0.1->-r requirements.txt (line 5)) (0.17.0)\r\n",
      "Requirement already satisfied: threadpoolctl>=2.0.0 in /home/jules/.local/lib/python3.9/site-packages (from scikit-learn==1.0.1->-r requirements.txt (line 5)) (2.1.0)\r\n",
      "Requirement already satisfied: google-pasta>=0.1.1 in ./venv/lib/python3.9/site-packages (from tensorflow==2.7.0->-r requirements.txt (line 6)) (0.2.0)\r\n",
      "Requirement already satisfied: astunparse>=1.6.0 in ./venv/lib/python3.9/site-packages (from tensorflow==2.7.0->-r requirements.txt (line 6)) (1.6.3)\r\n",
      "Requirement already satisfied: tensorflow-estimator<2.8,~=2.7.0rc0 in ./venv/lib/python3.9/site-packages (from tensorflow==2.7.0->-r requirements.txt (line 6)) (2.7.0)\r\n",
      "Requirement already satisfied: opt-einsum>=2.3.2 in ./venv/lib/python3.9/site-packages (from tensorflow==2.7.0->-r requirements.txt (line 6)) (3.3.0)\r\n",
      "Requirement already satisfied: gast<0.5.0,>=0.2.1 in ./venv/lib/python3.9/site-packages (from tensorflow==2.7.0->-r requirements.txt (line 6)) (0.4.0)\r\n",
      "Requirement already satisfied: protobuf>=3.9.2 in ./venv/lib/python3.9/site-packages (from tensorflow==2.7.0->-r requirements.txt (line 6)) (3.19.1)\r\n",
      "Requirement already satisfied: wrapt>=1.11.0 in /home/jules/.local/lib/python3.9/site-packages (from tensorflow==2.7.0->-r requirements.txt (line 6)) (1.12.1)\r\n",
      "Requirement already satisfied: flatbuffers<3.0,>=1.12 in ./venv/lib/python3.9/site-packages (from tensorflow==2.7.0->-r requirements.txt (line 6)) (2.0)\r\n",
      "Requirement already satisfied: six>=1.12.0 in /usr/lib/python3/dist-packages (from tensorflow==2.7.0->-r requirements.txt (line 6)) (1.14.0)\r\n",
      "Requirement already satisfied: h5py>=2.9.0 in ./venv/lib/python3.9/site-packages (from tensorflow==2.7.0->-r requirements.txt (line 6)) (3.6.0)\r\n",
      "Requirement already satisfied: keras<2.8,>=2.7.0rc0 in ./venv/lib/python3.9/site-packages (from tensorflow==2.7.0->-r requirements.txt (line 6)) (2.7.0)\r\n",
      "Requirement already satisfied: libclang>=9.0.1 in ./venv/lib/python3.9/site-packages (from tensorflow==2.7.0->-r requirements.txt (line 6)) (12.0.0)\r\n",
      "Requirement already satisfied: typing-extensions>=3.6.6 in /home/jules/.local/lib/python3.9/site-packages (from tensorflow==2.7.0->-r requirements.txt (line 6)) (3.10.0.2)\r\n",
      "Requirement already satisfied: grpcio<2.0,>=1.24.3 in ./venv/lib/python3.9/site-packages (from tensorflow==2.7.0->-r requirements.txt (line 6)) (1.42.0)\r\n",
      "Requirement already satisfied: absl-py>=0.4.0 in ./venv/lib/python3.9/site-packages (from tensorflow==2.7.0->-r requirements.txt (line 6)) (1.0.0)\r\n",
      "Requirement already satisfied: wheel<1.0,>=0.32.0 in ./venv/lib/python3.9/site-packages (from tensorflow==2.7.0->-r requirements.txt (line 6)) (0.37.0)\r\n",
      "Requirement already satisfied: tensorflow-io-gcs-filesystem>=0.21.0 in ./venv/lib/python3.9/site-packages (from tensorflow==2.7.0->-r requirements.txt (line 6)) (0.22.0)\r\n",
      "Requirement already satisfied: termcolor>=1.1.0 in ./venv/lib/python3.9/site-packages (from tensorflow==2.7.0->-r requirements.txt (line 6)) (1.1.0)\r\n",
      "Requirement already satisfied: tensorboard~=2.6 in ./venv/lib/python3.9/site-packages (from tensorflow==2.7.0->-r requirements.txt (line 6)) (2.7.0)\r\n",
      "Requirement already satisfied: keras-preprocessing>=1.1.1 in ./venv/lib/python3.9/site-packages (from tensorflow==2.7.0->-r requirements.txt (line 6)) (1.1.2)\r\n",
      "Requirement already satisfied: tensorboard-data-server<0.7.0,>=0.6.0 in ./venv/lib/python3.9/site-packages (from tensorboard~=2.6->tensorflow==2.7.0->-r requirements.txt (line 6)) (0.6.1)\r\n",
      "Requirement already satisfied: setuptools>=41.0.0 in ./venv/lib/python3.9/site-packages (from tensorboard~=2.6->tensorflow==2.7.0->-r requirements.txt (line 6)) (58.1.0)\r\n",
      "Requirement already satisfied: markdown>=2.6.8 in ./venv/lib/python3.9/site-packages (from tensorboard~=2.6->tensorflow==2.7.0->-r requirements.txt (line 6)) (3.3.6)\r\n",
      "Requirement already satisfied: requests<3,>=2.21.0 in /usr/lib/python3/dist-packages (from tensorboard~=2.6->tensorflow==2.7.0->-r requirements.txt (line 6)) (2.22.0)\r\n",
      "Requirement already satisfied: werkzeug>=0.11.15 in /usr/lib/python3/dist-packages (from tensorboard~=2.6->tensorflow==2.7.0->-r requirements.txt (line 6)) (0.16.1)\r\n",
      "Requirement already satisfied: google-auth<3,>=1.6.3 in ./venv/lib/python3.9/site-packages (from tensorboard~=2.6->tensorflow==2.7.0->-r requirements.txt (line 6)) (2.3.3)\r\n",
      "Requirement already satisfied: tensorboard-plugin-wit>=1.6.0 in ./venv/lib/python3.9/site-packages (from tensorboard~=2.6->tensorflow==2.7.0->-r requirements.txt (line 6)) (1.8.0)\r\n",
      "Requirement already satisfied: google-auth-oauthlib<0.5,>=0.4.1 in ./venv/lib/python3.9/site-packages (from tensorboard~=2.6->tensorflow==2.7.0->-r requirements.txt (line 6)) (0.4.6)\r\n",
      "Requirement already satisfied: ipython-genutils in ./venv/lib/python3.9/site-packages (from ipykernel->jupyter==1.0.0->-r requirements.txt (line 1)) (0.2.0)\r\n",
      "Requirement already satisfied: matplotlib-inline<0.2.0,>=0.1.0 in ./venv/lib/python3.9/site-packages (from ipykernel->jupyter==1.0.0->-r requirements.txt (line 1)) (0.1.3)\r\n",
      "Requirement already satisfied: jupyter-client<8.0 in ./venv/lib/python3.9/site-packages (from ipykernel->jupyter==1.0.0->-r requirements.txt (line 1)) (7.0.6)\r\n",
      "Requirement already satisfied: debugpy<2.0,>=1.0.0 in ./venv/lib/python3.9/site-packages (from ipykernel->jupyter==1.0.0->-r requirements.txt (line 1)) (1.5.0)\r\n",
      "Requirement already satisfied: tornado<7.0,>=4.2 in ./venv/lib/python3.9/site-packages (from ipykernel->jupyter==1.0.0->-r requirements.txt (line 1)) (6.1)\r\n",
      "Requirement already satisfied: ipython<8.0,>=7.23.1 in ./venv/lib/python3.9/site-packages (from ipykernel->jupyter==1.0.0->-r requirements.txt (line 1)) (7.28.0)\r\n",
      "Requirement already satisfied: traitlets<6.0,>=4.1.0 in ./venv/lib/python3.9/site-packages (from ipykernel->jupyter==1.0.0->-r requirements.txt (line 1)) (5.1.0)\r\n",
      "Requirement already satisfied: nbformat>=4.2.0 in ./venv/lib/python3.9/site-packages (from ipywidgets->jupyter==1.0.0->-r requirements.txt (line 1)) (5.1.3)\r\n",
      "Requirement already satisfied: widgetsnbextension~=3.5.0 in ./venv/lib/python3.9/site-packages (from ipywidgets->jupyter==1.0.0->-r requirements.txt (line 1)) (3.5.1)\r\n",
      "Requirement already satisfied: jupyterlab-widgets>=1.0.0 in ./venv/lib/python3.9/site-packages (from ipywidgets->jupyter==1.0.0->-r requirements.txt (line 1)) (1.0.2)\r\n",
      "Requirement already satisfied: prompt-toolkit!=3.0.0,!=3.0.1,<3.1.0,>=2.0.0 in ./venv/lib/python3.9/site-packages (from jupyter-console->jupyter==1.0.0->-r requirements.txt (line 1)) (3.0.20)\r\n",
      "Requirement already satisfied: pygments in ./venv/lib/python3.9/site-packages (from jupyter-console->jupyter==1.0.0->-r requirements.txt (line 1)) (2.10.0)\r\n",
      "Requirement already satisfied: pandocfilters>=1.4.1 in ./venv/lib/python3.9/site-packages (from nbconvert->jupyter==1.0.0->-r requirements.txt (line 1)) (1.5.0)\r\n",
      "Requirement already satisfied: nbclient<0.6.0,>=0.5.0 in ./venv/lib/python3.9/site-packages (from nbconvert->jupyter==1.0.0->-r requirements.txt (line 1)) (0.5.4)\r\n",
      "Requirement already satisfied: jinja2>=2.4 in /usr/lib/python3/dist-packages (from nbconvert->jupyter==1.0.0->-r requirements.txt (line 1)) (2.10.1)\r\n",
      "Requirement already satisfied: entrypoints>=0.2.2 in /usr/lib/python3/dist-packages (from nbconvert->jupyter==1.0.0->-r requirements.txt (line 1)) (0.3)\r\n",
      "Requirement already satisfied: bleach in ./venv/lib/python3.9/site-packages (from nbconvert->jupyter==1.0.0->-r requirements.txt (line 1)) (4.1.0)\r\n",
      "Requirement already satisfied: jupyter-core in ./venv/lib/python3.9/site-packages (from nbconvert->jupyter==1.0.0->-r requirements.txt (line 1)) (4.8.1)\r\n",
      "Requirement already satisfied: defusedxml in ./venv/lib/python3.9/site-packages (from nbconvert->jupyter==1.0.0->-r requirements.txt (line 1)) (0.7.1)\r\n",
      "Requirement already satisfied: jupyterlab-pygments in ./venv/lib/python3.9/site-packages (from nbconvert->jupyter==1.0.0->-r requirements.txt (line 1)) (0.1.2)\r\n",
      "Requirement already satisfied: testpath in ./venv/lib/python3.9/site-packages (from nbconvert->jupyter==1.0.0->-r requirements.txt (line 1)) (0.5.0)\r\n",
      "Requirement already satisfied: mistune<2,>=0.8.1 in ./venv/lib/python3.9/site-packages (from nbconvert->jupyter==1.0.0->-r requirements.txt (line 1)) (0.8.4)\r\n",
      "Requirement already satisfied: Send2Trash>=1.5.0 in ./venv/lib/python3.9/site-packages (from notebook->jupyter==1.0.0->-r requirements.txt (line 1)) (1.8.0)\r\n",
      "Requirement already satisfied: prometheus-client in ./venv/lib/python3.9/site-packages (from notebook->jupyter==1.0.0->-r requirements.txt (line 1)) (0.11.0)\r\n",
      "Requirement already satisfied: terminado>=0.8.3 in ./venv/lib/python3.9/site-packages (from notebook->jupyter==1.0.0->-r requirements.txt (line 1)) (0.12.1)\r\n",
      "Requirement already satisfied: pyzmq>=17 in ./venv/lib/python3.9/site-packages (from notebook->jupyter==1.0.0->-r requirements.txt (line 1)) (22.3.0)\r\n",
      "Requirement already satisfied: argon2-cffi in ./venv/lib/python3.9/site-packages (from notebook->jupyter==1.0.0->-r requirements.txt (line 1)) (21.1.0)\r\n",
      "Requirement already satisfied: qtpy in ./venv/lib/python3.9/site-packages (from qtconsole->jupyter==1.0.0->-r requirements.txt (line 1)) (1.11.2)\r\n",
      "Requirement already satisfied: rsa<5,>=3.1.4 in ./venv/lib/python3.9/site-packages (from google-auth<3,>=1.6.3->tensorboard~=2.6->tensorflow==2.7.0->-r requirements.txt (line 6)) (4.8)\r\n",
      "Requirement already satisfied: pyasn1-modules>=0.2.1 in ./venv/lib/python3.9/site-packages (from google-auth<3,>=1.6.3->tensorboard~=2.6->tensorflow==2.7.0->-r requirements.txt (line 6)) (0.2.8)\r\n",
      "Requirement already satisfied: cachetools<5.0,>=2.0.0 in ./venv/lib/python3.9/site-packages (from google-auth<3,>=1.6.3->tensorboard~=2.6->tensorflow==2.7.0->-r requirements.txt (line 6)) (4.2.4)\r\n",
      "Requirement already satisfied: requests-oauthlib>=0.7.0 in ./venv/lib/python3.9/site-packages (from google-auth-oauthlib<0.5,>=0.4.1->tensorboard~=2.6->tensorflow==2.7.0->-r requirements.txt (line 6)) (1.3.0)\r\n",
      "Requirement already satisfied: decorator in ./venv/lib/python3.9/site-packages (from ipython<8.0,>=7.23.1->ipykernel->jupyter==1.0.0->-r requirements.txt (line 1)) (5.1.0)\r\n",
      "Requirement already satisfied: backcall in ./venv/lib/python3.9/site-packages (from ipython<8.0,>=7.23.1->ipykernel->jupyter==1.0.0->-r requirements.txt (line 1)) (0.2.0)\r\n",
      "Requirement already satisfied: jedi>=0.16 in /home/jules/.local/lib/python3.9/site-packages (from ipython<8.0,>=7.23.1->ipykernel->jupyter==1.0.0->-r requirements.txt (line 1)) (0.17.2)\r\n",
      "Requirement already satisfied: pickleshare in ./venv/lib/python3.9/site-packages (from ipython<8.0,>=7.23.1->ipykernel->jupyter==1.0.0->-r requirements.txt (line 1)) (0.7.5)\r\n",
      "Requirement already satisfied: pexpect>4.3 in /usr/lib/python3/dist-packages (from ipython<8.0,>=7.23.1->ipykernel->jupyter==1.0.0->-r requirements.txt (line 1)) (4.6.0)\r\n",
      "Requirement already satisfied: nest-asyncio>=1.5 in ./venv/lib/python3.9/site-packages (from jupyter-client<8.0->ipykernel->jupyter==1.0.0->-r requirements.txt (line 1)) (1.5.1)\r\n",
      "Requirement already satisfied: importlib-metadata>=4.4 in ./venv/lib/python3.9/site-packages (from markdown>=2.6.8->tensorboard~=2.6->tensorflow==2.7.0->-r requirements.txt (line 6)) (4.8.2)\r\n",
      "Requirement already satisfied: jsonschema!=2.5.0,>=2.4 in ./venv/lib/python3.9/site-packages (from nbformat>=4.2.0->ipywidgets->jupyter==1.0.0->-r requirements.txt (line 1)) (4.1.0)\r\n",
      "Requirement already satisfied: wcwidth in ./venv/lib/python3.9/site-packages (from prompt-toolkit!=3.0.0,!=3.0.1,<3.1.0,>=2.0.0->jupyter-console->jupyter==1.0.0->-r requirements.txt (line 1)) (0.2.5)\r\n",
      "Requirement already satisfied: ptyprocess in ./venv/lib/python3.9/site-packages (from terminado>=0.8.3->notebook->jupyter==1.0.0->-r requirements.txt (line 1)) (0.7.0)\r\n",
      "Requirement already satisfied: cffi>=1.0.0 in ./venv/lib/python3.9/site-packages (from argon2-cffi->notebook->jupyter==1.0.0->-r requirements.txt (line 1)) (1.14.6)\r\n",
      "Requirement already satisfied: packaging in ./venv/lib/python3.9/site-packages (from bleach->nbconvert->jupyter==1.0.0->-r requirements.txt (line 1)) (21.0)\r\n",
      "Requirement already satisfied: webencodings in ./venv/lib/python3.9/site-packages (from bleach->nbconvert->jupyter==1.0.0->-r requirements.txt (line 1)) (0.5.1)\r\n",
      "Requirement already satisfied: pycparser in ./venv/lib/python3.9/site-packages (from cffi>=1.0.0->argon2-cffi->notebook->jupyter==1.0.0->-r requirements.txt (line 1)) (2.20)\r\n",
      "Requirement already satisfied: zipp>=0.5 in /usr/lib/python3/dist-packages (from importlib-metadata>=4.4->markdown>=2.6.8->tensorboard~=2.6->tensorflow==2.7.0->-r requirements.txt (line 6)) (1.0.0)\r\n",
      "Requirement already satisfied: parso<0.8.0,>=0.7.0 in /home/jules/.local/lib/python3.9/site-packages (from jedi>=0.16->ipython<8.0,>=7.23.1->ipykernel->jupyter==1.0.0->-r requirements.txt (line 1)) (0.7.1)\r\n",
      "Requirement already satisfied: pyrsistent!=0.17.0,!=0.17.1,!=0.17.2,>=0.14.0 in ./venv/lib/python3.9/site-packages (from jsonschema!=2.5.0,>=2.4->nbformat>=4.2.0->ipywidgets->jupyter==1.0.0->-r requirements.txt (line 1)) (0.18.0)\r\n",
      "Requirement already satisfied: attrs>=17.4.0 in ./venv/lib/python3.9/site-packages (from jsonschema!=2.5.0,>=2.4->nbformat>=4.2.0->ipywidgets->jupyter==1.0.0->-r requirements.txt (line 1)) (21.2.0)\r\n",
      "Requirement already satisfied: pyasn1<0.5.0,>=0.4.6 in ./venv/lib/python3.9/site-packages (from pyasn1-modules>=0.2.1->google-auth<3,>=1.6.3->tensorboard~=2.6->tensorflow==2.7.0->-r requirements.txt (line 6)) (0.4.8)\r\n",
      "Requirement already satisfied: oauthlib>=3.0.0 in /usr/lib/python3/dist-packages (from requests-oauthlib>=0.7.0->google-auth-oauthlib<0.5,>=0.4.1->tensorboard~=2.6->tensorflow==2.7.0->-r requirements.txt (line 6)) (3.1.0)\r\n"
     ]
    }
   ],
   "source": [
    "!pip install -r requirements.txt"
   ],
   "metadata": {
    "collapsed": false,
    "pycharm": {
     "name": "#%%\n"
    }
   }
  },
  {
   "cell_type": "code",
   "execution_count": 90,
   "id": "adc6a7ee",
   "metadata": {},
   "outputs": [],
   "source": [
    "import matplotlib.pyplot as plt\n",
    "%matplotlib inline\n",
    "import numpy as np\n",
    "import pandas as pd\n",
    "import tensorflow as tf\n",
    "import gzip\n",
    "import torch\n",
    "from IPython.display import display\n",
    "\n",
    "from json import loads\n",
    "from tqdm.notebook import tqdm\n",
    "from typing import Iterable, Union, TypeVar\n",
    "from scipy import sparse\n",
    "from sklearn.model_selection import train_test_split\n",
    "\n",
    "\n",
    "tqdm.pandas()"
   ]
  },
  {
   "cell_type": "markdown",
   "source": [
    "# Data loading"
   ],
   "metadata": {
    "collapsed": false,
    "pycharm": {
     "name": "#%% md\n"
    }
   }
  },
  {
   "cell_type": "code",
   "execution_count": 91,
   "id": "597fd17e",
   "metadata": {},
   "outputs": [],
   "source": [
    "def parse_json(filename: str, read_max: int = None, attributes: Iterable[str] = None) -> pd.DataFrame:\n",
    "    \"\"\"\n",
    "    Reads the file line by line, parsing each line as json.\n",
    "\n",
    "    :param filename: The path to the datafile.\n",
    "    :param read_max: The maximum number of lines to read from the datafile.\n",
    "    :param attributes: The attributes of each JSON object that should be extracted; other attributes are ignored.\n",
    "    \"\"\"\n",
    "    file = gzip.open(filename, \"r\")\n",
    "    data = []\n",
    "    for index, line in enumerate(tqdm(file)):\n",
    "        if index == read_max:\n",
    "            break\n",
    "        entry = loads(line)\n",
    "        if attributes is not None:\n",
    "            entry = {key: entry[key] for key in attributes}\n",
    "        data.append(entry)\n",
    "    return pd.DataFrame.from_dict(data)"
   ]
  },
  {
   "cell_type": "code",
   "execution_count": 92,
   "outputs": [
    {
     "data": {
      "text/plain": "0it [00:00, ?it/s]",
      "application/vnd.jupyter.widget-view+json": {
       "version_major": 2,
       "version_minor": 0,
       "model_id": "740378f94c5a4f42b9c630d651244a68"
      }
     },
     "metadata": {},
     "output_type": "display_data"
    },
    {
     "data": {
      "text/plain": "0it [00:00, ?it/s]",
      "application/vnd.jupyter.widget-view+json": {
       "version_major": 2,
       "version_minor": 0,
       "model_id": "621f10613e0c45af9ce7b2fabef3c909"
      }
     },
     "metadata": {},
     "output_type": "display_data"
    },
    {
     "data": {
      "text/plain": "    book_id                                              title\n0  25742454                              The Switchblade Mamma\n1  30128855                                            Cruelle\n2  13571772  Captain America: Winter Soldier (The Ultimate ...\n3  35452242  Bounty Hunter 4/3: My Life in Combat from Mari...\n4    707611                          Superman Archives, Vol. 2\n5   2250580                            A.I. Revolution, Vol. 1\n6  27036536                              War Stories, Volume 3\n7  27036537                                 Crossed, Volume 15\n8  27036538  Crossed + One Hundred, Volume 2 (Crossed +100 #2)\n9  27036539                              War Stories, Volume 4",
      "text/html": "<div>\n<style scoped>\n    .dataframe tbody tr th:only-of-type {\n        vertical-align: middle;\n    }\n\n    .dataframe tbody tr th {\n        vertical-align: top;\n    }\n\n    .dataframe thead th {\n        text-align: right;\n    }\n</style>\n<table border=\"1\" class=\"dataframe\">\n  <thead>\n    <tr style=\"text-align: right;\">\n      <th></th>\n      <th>book_id</th>\n      <th>title</th>\n    </tr>\n  </thead>\n  <tbody>\n    <tr>\n      <th>0</th>\n      <td>25742454</td>\n      <td>The Switchblade Mamma</td>\n    </tr>\n    <tr>\n      <th>1</th>\n      <td>30128855</td>\n      <td>Cruelle</td>\n    </tr>\n    <tr>\n      <th>2</th>\n      <td>13571772</td>\n      <td>Captain America: Winter Soldier (The Ultimate ...</td>\n    </tr>\n    <tr>\n      <th>3</th>\n      <td>35452242</td>\n      <td>Bounty Hunter 4/3: My Life in Combat from Mari...</td>\n    </tr>\n    <tr>\n      <th>4</th>\n      <td>707611</td>\n      <td>Superman Archives, Vol. 2</td>\n    </tr>\n    <tr>\n      <th>5</th>\n      <td>2250580</td>\n      <td>A.I. Revolution, Vol. 1</td>\n    </tr>\n    <tr>\n      <th>6</th>\n      <td>27036536</td>\n      <td>War Stories, Volume 3</td>\n    </tr>\n    <tr>\n      <th>7</th>\n      <td>27036537</td>\n      <td>Crossed, Volume 15</td>\n    </tr>\n    <tr>\n      <th>8</th>\n      <td>27036538</td>\n      <td>Crossed + One Hundred, Volume 2 (Crossed +100 #2)</td>\n    </tr>\n    <tr>\n      <th>9</th>\n      <td>27036539</td>\n      <td>War Stories, Volume 4</td>\n    </tr>\n  </tbody>\n</table>\n</div>"
     },
     "metadata": {},
     "output_type": "display_data"
    },
    {
     "data": {
      "text/plain": "                            user_id   book_id  rating  \\\n0  8842281e1d1347389f2ab93d60773d4d    836610       0   \n1  8842281e1d1347389f2ab93d60773d4d   7648967       0   \n2  8842281e1d1347389f2ab93d60773d4d  15704307       0   \n3  8842281e1d1347389f2ab93d60773d4d   6902644       0   \n4  8842281e1d1347389f2ab93d60773d4d   9844623       0   \n5  8842281e1d1347389f2ab93d60773d4d  13163846       0   \n6  8842281e1d1347389f2ab93d60773d4d   1137635       0   \n7  8842281e1d1347389f2ab93d60773d4d     44735       0   \n8  8842281e1d1347389f2ab93d60773d4d    472331       0   \n9  8842281e1d1347389f2ab93d60773d4d     24815       5   \n\n                     date_updated  \n0  Mon Aug 21 12:11:00 -0700 2017  \n1  Fri Feb 24 08:59:44 -0800 2017  \n2  Wed May 20 21:28:57 -0700 2015  \n3  Sun Jun 01 17:25:23 -0700 2014  \n4  Sun Sep 02 08:45:08 -0700 2012  \n5  Tue Jul 24 14:36:13 -0700 2012  \n6  Fri Mar 26 08:58:33 -0700 2010  \n7  Fri Jun 05 12:28:44 -0700 2009  \n8  Fri Jun 05 12:28:47 -0700 2009  \n9  Thu Apr 17 23:42:49 -0700 2008  ",
      "text/html": "<div>\n<style scoped>\n    .dataframe tbody tr th:only-of-type {\n        vertical-align: middle;\n    }\n\n    .dataframe tbody tr th {\n        vertical-align: top;\n    }\n\n    .dataframe thead th {\n        text-align: right;\n    }\n</style>\n<table border=\"1\" class=\"dataframe\">\n  <thead>\n    <tr style=\"text-align: right;\">\n      <th></th>\n      <th>user_id</th>\n      <th>book_id</th>\n      <th>rating</th>\n      <th>date_updated</th>\n    </tr>\n  </thead>\n  <tbody>\n    <tr>\n      <th>0</th>\n      <td>8842281e1d1347389f2ab93d60773d4d</td>\n      <td>836610</td>\n      <td>0</td>\n      <td>Mon Aug 21 12:11:00 -0700 2017</td>\n    </tr>\n    <tr>\n      <th>1</th>\n      <td>8842281e1d1347389f2ab93d60773d4d</td>\n      <td>7648967</td>\n      <td>0</td>\n      <td>Fri Feb 24 08:59:44 -0800 2017</td>\n    </tr>\n    <tr>\n      <th>2</th>\n      <td>8842281e1d1347389f2ab93d60773d4d</td>\n      <td>15704307</td>\n      <td>0</td>\n      <td>Wed May 20 21:28:57 -0700 2015</td>\n    </tr>\n    <tr>\n      <th>3</th>\n      <td>8842281e1d1347389f2ab93d60773d4d</td>\n      <td>6902644</td>\n      <td>0</td>\n      <td>Sun Jun 01 17:25:23 -0700 2014</td>\n    </tr>\n    <tr>\n      <th>4</th>\n      <td>8842281e1d1347389f2ab93d60773d4d</td>\n      <td>9844623</td>\n      <td>0</td>\n      <td>Sun Sep 02 08:45:08 -0700 2012</td>\n    </tr>\n    <tr>\n      <th>5</th>\n      <td>8842281e1d1347389f2ab93d60773d4d</td>\n      <td>13163846</td>\n      <td>0</td>\n      <td>Tue Jul 24 14:36:13 -0700 2012</td>\n    </tr>\n    <tr>\n      <th>6</th>\n      <td>8842281e1d1347389f2ab93d60773d4d</td>\n      <td>1137635</td>\n      <td>0</td>\n      <td>Fri Mar 26 08:58:33 -0700 2010</td>\n    </tr>\n    <tr>\n      <th>7</th>\n      <td>8842281e1d1347389f2ab93d60773d4d</td>\n      <td>44735</td>\n      <td>0</td>\n      <td>Fri Jun 05 12:28:44 -0700 2009</td>\n    </tr>\n    <tr>\n      <th>8</th>\n      <td>8842281e1d1347389f2ab93d60773d4d</td>\n      <td>472331</td>\n      <td>0</td>\n      <td>Fri Jun 05 12:28:47 -0700 2009</td>\n    </tr>\n    <tr>\n      <th>9</th>\n      <td>8842281e1d1347389f2ab93d60773d4d</td>\n      <td>24815</td>\n      <td>5</td>\n      <td>Thu Apr 17 23:42:49 -0700 2008</td>\n    </tr>\n  </tbody>\n</table>\n</div>"
     },
     "metadata": {},
     "output_type": "display_data"
    }
   ],
   "source": [
    "data_path = \"data/\"\n",
    "books = f\"{data_path}goodreads_books_comics_graphic.json.gz\"\n",
    "interactions = f\"{data_path}goodreads_interactions_comics_graphic.json.gz\"\n",
    "reviews = f\"{data_path}goodreads_reviews_comics_graphic.json.gz\"\n",
    "\n",
    "n = 500000\n",
    "\n",
    "books_df = parse_json(books, n, (\"book_id\", \"title\"))\n",
    "interactions_df = parse_json(interactions, n, (\"user_id\", \"book_id\", \"rating\", \"date_updated\"))\n",
    "\n",
    "display(books_df.head(10))\n",
    "display(interactions_df.head(10))"
   ],
   "metadata": {
    "collapsed": false,
    "pycharm": {
     "name": "#%%\n"
    }
   }
  },
  {
   "cell_type": "code",
   "execution_count": 93,
   "outputs": [],
   "source": [
    "# Convert the columns to the correct types\n",
    "interactions_df[\"date_updated\"] = pd.to_datetime(interactions_df[\"date_updated\"], format=\"%a %b %d %H:%M:%S %z %Y\")\n",
    "books_df[\"book_id\"] = books_df[\"book_id\"].astype(\"int64\")\n",
    "interactions_df[\"book_id\"] = interactions_df[\"book_id\"].astype(\"int64\")\n",
    "\n",
    "# Sort the interactions by user ID and the timestamp\n",
    "interactions_df = interactions_df.sort_values(by=[\"user_id\", \"date_updated\"], ascending=[True, True])"
   ],
   "metadata": {
    "collapsed": false,
    "pycharm": {
     "name": "#%%\n"
    }
   }
  },
  {
   "cell_type": "markdown",
   "source": [
    "# Preprocessing"
   ],
   "metadata": {
    "collapsed": false,
    "pycharm": {
     "name": "#%% md\n"
    }
   }
  },
  {
   "cell_type": "code",
   "execution_count": 94,
   "outputs": [
    {
     "data": {
      "text/plain": "                                 user_id   book_id  rating  \\\n496200  00153d136ac254437511fad5e10e246d   7619292       3   \n496199  00153d136ac254437511fad5e10e246d  29396738       0   \n350064  0018ce6296baeccf95c3502deeff0600    472331       5   \n350062  0018ce6296baeccf95c3502deeff0600   3058907       4   \n350061  0018ce6296baeccf95c3502deeff0600   4280231       4   \n350059  0018ce6296baeccf95c3502deeff0600  11470711       5   \n350058  0018ce6296baeccf95c3502deeff0600    844355       4   \n350057  0018ce6296baeccf95c3502deeff0600   1568491       4   \n350056  0018ce6296baeccf95c3502deeff0600     23754       4   \n350063  0018ce6296baeccf95c3502deeff0600  13480845       5   \n\n                     date_updated  \n496200  2012-08-30 11:53:39-07:00  \n496199  2017-08-07 03:40:09-07:00  \n350064  2012-08-05 09:26:00-07:00  \n350062  2012-08-05 13:11:48-07:00  \n350061  2012-08-05 13:11:52-07:00  \n350059  2012-08-05 13:14:57-07:00  \n350058  2012-08-05 13:19:32-07:00  \n350057  2012-08-05 13:19:39-07:00  \n350056  2012-08-09 03:53:26-07:00  \n350063  2012-08-15 04:26:40-07:00  ",
      "text/html": "<div>\n<style scoped>\n    .dataframe tbody tr th:only-of-type {\n        vertical-align: middle;\n    }\n\n    .dataframe tbody tr th {\n        vertical-align: top;\n    }\n\n    .dataframe thead th {\n        text-align: right;\n    }\n</style>\n<table border=\"1\" class=\"dataframe\">\n  <thead>\n    <tr style=\"text-align: right;\">\n      <th></th>\n      <th>user_id</th>\n      <th>book_id</th>\n      <th>rating</th>\n      <th>date_updated</th>\n    </tr>\n  </thead>\n  <tbody>\n    <tr>\n      <th>496200</th>\n      <td>00153d136ac254437511fad5e10e246d</td>\n      <td>7619292</td>\n      <td>3</td>\n      <td>2012-08-30 11:53:39-07:00</td>\n    </tr>\n    <tr>\n      <th>496199</th>\n      <td>00153d136ac254437511fad5e10e246d</td>\n      <td>29396738</td>\n      <td>0</td>\n      <td>2017-08-07 03:40:09-07:00</td>\n    </tr>\n    <tr>\n      <th>350064</th>\n      <td>0018ce6296baeccf95c3502deeff0600</td>\n      <td>472331</td>\n      <td>5</td>\n      <td>2012-08-05 09:26:00-07:00</td>\n    </tr>\n    <tr>\n      <th>350062</th>\n      <td>0018ce6296baeccf95c3502deeff0600</td>\n      <td>3058907</td>\n      <td>4</td>\n      <td>2012-08-05 13:11:48-07:00</td>\n    </tr>\n    <tr>\n      <th>350061</th>\n      <td>0018ce6296baeccf95c3502deeff0600</td>\n      <td>4280231</td>\n      <td>4</td>\n      <td>2012-08-05 13:11:52-07:00</td>\n    </tr>\n    <tr>\n      <th>350059</th>\n      <td>0018ce6296baeccf95c3502deeff0600</td>\n      <td>11470711</td>\n      <td>5</td>\n      <td>2012-08-05 13:14:57-07:00</td>\n    </tr>\n    <tr>\n      <th>350058</th>\n      <td>0018ce6296baeccf95c3502deeff0600</td>\n      <td>844355</td>\n      <td>4</td>\n      <td>2012-08-05 13:19:32-07:00</td>\n    </tr>\n    <tr>\n      <th>350057</th>\n      <td>0018ce6296baeccf95c3502deeff0600</td>\n      <td>1568491</td>\n      <td>4</td>\n      <td>2012-08-05 13:19:39-07:00</td>\n    </tr>\n    <tr>\n      <th>350056</th>\n      <td>0018ce6296baeccf95c3502deeff0600</td>\n      <td>23754</td>\n      <td>4</td>\n      <td>2012-08-09 03:53:26-07:00</td>\n    </tr>\n    <tr>\n      <th>350063</th>\n      <td>0018ce6296baeccf95c3502deeff0600</td>\n      <td>13480845</td>\n      <td>5</td>\n      <td>2012-08-15 04:26:40-07:00</td>\n    </tr>\n  </tbody>\n</table>\n</div>"
     },
     "metadata": {},
     "output_type": "display_data"
    },
    {
     "name": "stdout",
     "output_type": "stream",
     "text": [
      "Number of unique users: 18246\n",
      "Number of unique items: 53635\n",
      "500000 initial rows\n",
      "482272 rows after preprocessing\n",
      "Number of unique users: 8931\n",
      "Number of unique items: 53210\n"
     ]
    },
    {
     "data": {
      "text/plain": "                             user_id   book_id  rating  \\\n2   0018ce6296baeccf95c3502deeff0600    472331       5   \n3   0018ce6296baeccf95c3502deeff0600   3058907       4   \n4   0018ce6296baeccf95c3502deeff0600   4280231       4   \n5   0018ce6296baeccf95c3502deeff0600  11470711       5   \n6   0018ce6296baeccf95c3502deeff0600    844355       4   \n7   0018ce6296baeccf95c3502deeff0600   1568491       4   \n8   0018ce6296baeccf95c3502deeff0600     23754       4   \n9   0018ce6296baeccf95c3502deeff0600  13480845       5   \n10  0018ce6296baeccf95c3502deeff0600   3887304       5   \n11  0018ce6296baeccf95c3502deeff0600  12079555       3   \n\n                 date_updated  \n2   2012-08-05 09:26:00-07:00  \n3   2012-08-05 13:11:48-07:00  \n4   2012-08-05 13:11:52-07:00  \n5   2012-08-05 13:14:57-07:00  \n6   2012-08-05 13:19:32-07:00  \n7   2012-08-05 13:19:39-07:00  \n8   2012-08-09 03:53:26-07:00  \n9   2012-08-15 04:26:40-07:00  \n10  2012-10-10 03:59:19-07:00  \n11  2015-02-07 04:25:49-08:00  ",
      "text/html": "<div>\n<style scoped>\n    .dataframe tbody tr th:only-of-type {\n        vertical-align: middle;\n    }\n\n    .dataframe tbody tr th {\n        vertical-align: top;\n    }\n\n    .dataframe thead th {\n        text-align: right;\n    }\n</style>\n<table border=\"1\" class=\"dataframe\">\n  <thead>\n    <tr style=\"text-align: right;\">\n      <th></th>\n      <th>user_id</th>\n      <th>book_id</th>\n      <th>rating</th>\n      <th>date_updated</th>\n    </tr>\n  </thead>\n  <tbody>\n    <tr>\n      <th>2</th>\n      <td>0018ce6296baeccf95c3502deeff0600</td>\n      <td>472331</td>\n      <td>5</td>\n      <td>2012-08-05 09:26:00-07:00</td>\n    </tr>\n    <tr>\n      <th>3</th>\n      <td>0018ce6296baeccf95c3502deeff0600</td>\n      <td>3058907</td>\n      <td>4</td>\n      <td>2012-08-05 13:11:48-07:00</td>\n    </tr>\n    <tr>\n      <th>4</th>\n      <td>0018ce6296baeccf95c3502deeff0600</td>\n      <td>4280231</td>\n      <td>4</td>\n      <td>2012-08-05 13:11:52-07:00</td>\n    </tr>\n    <tr>\n      <th>5</th>\n      <td>0018ce6296baeccf95c3502deeff0600</td>\n      <td>11470711</td>\n      <td>5</td>\n      <td>2012-08-05 13:14:57-07:00</td>\n    </tr>\n    <tr>\n      <th>6</th>\n      <td>0018ce6296baeccf95c3502deeff0600</td>\n      <td>844355</td>\n      <td>4</td>\n      <td>2012-08-05 13:19:32-07:00</td>\n    </tr>\n    <tr>\n      <th>7</th>\n      <td>0018ce6296baeccf95c3502deeff0600</td>\n      <td>1568491</td>\n      <td>4</td>\n      <td>2012-08-05 13:19:39-07:00</td>\n    </tr>\n    <tr>\n      <th>8</th>\n      <td>0018ce6296baeccf95c3502deeff0600</td>\n      <td>23754</td>\n      <td>4</td>\n      <td>2012-08-09 03:53:26-07:00</td>\n    </tr>\n    <tr>\n      <th>9</th>\n      <td>0018ce6296baeccf95c3502deeff0600</td>\n      <td>13480845</td>\n      <td>5</td>\n      <td>2012-08-15 04:26:40-07:00</td>\n    </tr>\n    <tr>\n      <th>10</th>\n      <td>0018ce6296baeccf95c3502deeff0600</td>\n      <td>3887304</td>\n      <td>5</td>\n      <td>2012-10-10 03:59:19-07:00</td>\n    </tr>\n    <tr>\n      <th>11</th>\n      <td>0018ce6296baeccf95c3502deeff0600</td>\n      <td>12079555</td>\n      <td>3</td>\n      <td>2015-02-07 04:25:49-08:00</td>\n    </tr>\n  </tbody>\n</table>\n</div>"
     },
     "metadata": {},
     "output_type": "display_data"
    }
   ],
   "source": [
    "def preprocess(dataframe: pd.DataFrame, min_support: int = 5) -> pd.DataFrame:\n",
    "    \"\"\"\n",
    "    Removes users with fewer than `min_support` interactions, and duplicate user-item pairs (which do not exist in the\n",
    "    dataset anyway). Items with very few interactions are not removed, unless they have no interactions at all after\n",
    "    removing infrequent users.\n",
    "    \"\"\"\n",
    "    print(dataframe.shape[0], \"initial rows\")\n",
    "    # Drop reconsumption items\n",
    "    dataframe = dataframe.drop_duplicates(subset=[\"user_id\", \"book_id\"])\n",
    "    # Drop users with less than `min_support` interactions\n",
    "    items_per_user = dataframe.groupby(\"user_id\", as_index=False)[\"book_id\"].size()\n",
    "    items_per_user = items_per_user.rename({\"size\": \"items_per_user\"}, axis=\"columns\")\n",
    "    dataframe = pd.merge(dataframe, items_per_user, how=\"left\", on=[\"user_id\"])\n",
    "    dataframe = dataframe[dataframe[\"items_per_user\"] >= min_support]\n",
    "    # Report and clean up after the preprocessing\n",
    "    print(dataframe.shape[0], \"rows after preprocessing\")\n",
    "    dataframe.drop(columns=[\"items_per_user\"], inplace=True)\n",
    "    return dataframe\n",
    "\n",
    "\n",
    "display(interactions_df.head(10))\n",
    "print(f\"Number of unique users:\", interactions_df[\"user_id\"].nunique())\n",
    "print(f\"Number of unique items:\", interactions_df[\"book_id\"].nunique())\n",
    "interactions_df = preprocess(interactions_df, min_support=5)\n",
    "print(f\"Number of unique users:\", interactions_df[\"user_id\"].nunique())\n",
    "print(f\"Number of unique items:\", interactions_df[\"book_id\"].nunique())\n",
    "display(interactions_df.head(10))"
   ],
   "metadata": {
    "collapsed": false,
    "pycharm": {
     "name": "#%%\n"
    }
   }
  },
  {
   "cell_type": "code",
   "execution_count": 95,
   "outputs": [
    {
     "data": {
      "text/plain": "  0%|          | 0/482272 [00:00<?, ?it/s]",
      "application/vnd.jupyter.widget-view+json": {
       "version_major": 2,
       "version_minor": 0,
       "model_id": "3030aac0350549bbb44e203edfbc4d8f"
      }
     },
     "metadata": {},
     "output_type": "display_data"
    },
    {
     "data": {
      "text/plain": "  0%|          | 0/482272 [00:00<?, ?it/s]",
      "application/vnd.jupyter.widget-view+json": {
       "version_major": 2,
       "version_minor": 0,
       "model_id": "14d221a531d0441389447836ae36d610"
      }
     },
     "metadata": {},
     "output_type": "display_data"
    },
    {
     "data": {
      "text/plain": "  0%|          | 0/89411 [00:00<?, ?it/s]",
      "application/vnd.jupyter.widget-view+json": {
       "version_major": 2,
       "version_minor": 0,
       "model_id": "d94c79abd37248e3a8d2d7f9631dbd2a"
      }
     },
     "metadata": {},
     "output_type": "display_data"
    },
    {
     "data": {
      "text/plain": "    book_id                                              title  book_id_int\n0  25742454                              The Switchblade Mamma           -1\n1  30128855                                            Cruelle        15002\n2  13571772  Captain America: Winter Soldier (The Ultimate ...        43185\n3  35452242  Bounty Hunter 4/3: My Life in Combat from Mari...           -1\n4    707611                          Superman Archives, Vol. 2           -1\n5   2250580                            A.I. Revolution, Vol. 1        11921\n6  27036536                              War Stories, Volume 3        46912\n7  27036537                                 Crossed, Volume 15        46927\n8  27036538  Crossed + One Hundred, Volume 2 (Crossed +100 #2)        46931\n9  27036539                              War Stories, Volume 4        13789",
      "text/html": "<div>\n<style scoped>\n    .dataframe tbody tr th:only-of-type {\n        vertical-align: middle;\n    }\n\n    .dataframe tbody tr th {\n        vertical-align: top;\n    }\n\n    .dataframe thead th {\n        text-align: right;\n    }\n</style>\n<table border=\"1\" class=\"dataframe\">\n  <thead>\n    <tr style=\"text-align: right;\">\n      <th></th>\n      <th>book_id</th>\n      <th>title</th>\n      <th>book_id_int</th>\n    </tr>\n  </thead>\n  <tbody>\n    <tr>\n      <th>0</th>\n      <td>25742454</td>\n      <td>The Switchblade Mamma</td>\n      <td>-1</td>\n    </tr>\n    <tr>\n      <th>1</th>\n      <td>30128855</td>\n      <td>Cruelle</td>\n      <td>15002</td>\n    </tr>\n    <tr>\n      <th>2</th>\n      <td>13571772</td>\n      <td>Captain America: Winter Soldier (The Ultimate ...</td>\n      <td>43185</td>\n    </tr>\n    <tr>\n      <th>3</th>\n      <td>35452242</td>\n      <td>Bounty Hunter 4/3: My Life in Combat from Mari...</td>\n      <td>-1</td>\n    </tr>\n    <tr>\n      <th>4</th>\n      <td>707611</td>\n      <td>Superman Archives, Vol. 2</td>\n      <td>-1</td>\n    </tr>\n    <tr>\n      <th>5</th>\n      <td>2250580</td>\n      <td>A.I. Revolution, Vol. 1</td>\n      <td>11921</td>\n    </tr>\n    <tr>\n      <th>6</th>\n      <td>27036536</td>\n      <td>War Stories, Volume 3</td>\n      <td>46912</td>\n    </tr>\n    <tr>\n      <th>7</th>\n      <td>27036537</td>\n      <td>Crossed, Volume 15</td>\n      <td>46927</td>\n    </tr>\n    <tr>\n      <th>8</th>\n      <td>27036538</td>\n      <td>Crossed + One Hundred, Volume 2 (Crossed +100 #2)</td>\n      <td>46931</td>\n    </tr>\n    <tr>\n      <th>9</th>\n      <td>27036539</td>\n      <td>War Stories, Volume 4</td>\n      <td>13789</td>\n    </tr>\n  </tbody>\n</table>\n</div>"
     },
     "metadata": {},
     "output_type": "display_data"
    },
    {
     "data": {
      "text/plain": "    user_id  item_id                   datetime  rating\n2         0        0  2012-08-05 09:26:00-07:00       5\n3         0        1  2012-08-05 13:11:48-07:00       4\n4         0        2  2012-08-05 13:11:52-07:00       4\n5         0        3  2012-08-05 13:14:57-07:00       5\n6         0        4  2012-08-05 13:19:32-07:00       4\n7         0        5  2012-08-05 13:19:39-07:00       4\n8         0        6  2012-08-09 03:53:26-07:00       4\n9         0        7  2012-08-15 04:26:40-07:00       5\n10        0        8  2012-10-10 03:59:19-07:00       5\n11        0        9  2015-02-07 04:25:49-08:00       3",
      "text/html": "<div>\n<style scoped>\n    .dataframe tbody tr th:only-of-type {\n        vertical-align: middle;\n    }\n\n    .dataframe tbody tr th {\n        vertical-align: top;\n    }\n\n    .dataframe thead th {\n        text-align: right;\n    }\n</style>\n<table border=\"1\" class=\"dataframe\">\n  <thead>\n    <tr style=\"text-align: right;\">\n      <th></th>\n      <th>user_id</th>\n      <th>item_id</th>\n      <th>datetime</th>\n      <th>rating</th>\n    </tr>\n  </thead>\n  <tbody>\n    <tr>\n      <th>2</th>\n      <td>0</td>\n      <td>0</td>\n      <td>2012-08-05 09:26:00-07:00</td>\n      <td>5</td>\n    </tr>\n    <tr>\n      <th>3</th>\n      <td>0</td>\n      <td>1</td>\n      <td>2012-08-05 13:11:48-07:00</td>\n      <td>4</td>\n    </tr>\n    <tr>\n      <th>4</th>\n      <td>0</td>\n      <td>2</td>\n      <td>2012-08-05 13:11:52-07:00</td>\n      <td>4</td>\n    </tr>\n    <tr>\n      <th>5</th>\n      <td>0</td>\n      <td>3</td>\n      <td>2012-08-05 13:14:57-07:00</td>\n      <td>5</td>\n    </tr>\n    <tr>\n      <th>6</th>\n      <td>0</td>\n      <td>4</td>\n      <td>2012-08-05 13:19:32-07:00</td>\n      <td>4</td>\n    </tr>\n    <tr>\n      <th>7</th>\n      <td>0</td>\n      <td>5</td>\n      <td>2012-08-05 13:19:39-07:00</td>\n      <td>4</td>\n    </tr>\n    <tr>\n      <th>8</th>\n      <td>0</td>\n      <td>6</td>\n      <td>2012-08-09 03:53:26-07:00</td>\n      <td>4</td>\n    </tr>\n    <tr>\n      <th>9</th>\n      <td>0</td>\n      <td>7</td>\n      <td>2012-08-15 04:26:40-07:00</td>\n      <td>5</td>\n    </tr>\n    <tr>\n      <th>10</th>\n      <td>0</td>\n      <td>8</td>\n      <td>2012-10-10 03:59:19-07:00</td>\n      <td>5</td>\n    </tr>\n    <tr>\n      <th>11</th>\n      <td>0</td>\n      <td>9</td>\n      <td>2015-02-07 04:25:49-08:00</td>\n      <td>3</td>\n    </tr>\n  </tbody>\n</table>\n</div>"
     },
     "metadata": {},
     "output_type": "display_data"
    }
   ],
   "source": [
    "def apply_consecutive_mapping(dataframe: pd.DataFrame, column: str, new_column: str, *additional: pd.DataFrame) -> None:\n",
    "    \"\"\"\n",
    "    Generates a consecutive ID column for the values of an existing column. Also adds this column to additional data\n",
    "    frames with the exact same mapping of old ID to new (consecutive) ID.\n",
    "    \"\"\"\n",
    "    ids = {}\n",
    "\n",
    "    def map_to_consecutive_ids(uuid: Union[int, np.int64]) -> int:\n",
    "        \"\"\"\n",
    "        To be used with `pd.Dataframe.apply()` or `pd.Dataframe.progress_apply()`; returns a unique ID per distinct\n",
    "        value.\n",
    "        \"\"\"\n",
    "        if uuid not in ids:\n",
    "            ids[uuid] = len(ids)\n",
    "        return ids[uuid]\n",
    "\n",
    "    dataframe[new_column] = dataframe[column].progress_apply(map_to_consecutive_ids)\n",
    "    for frame in additional:\n",
    "        frame[new_column] = frame[column].progress_apply(lambda old_id: ids.get(old_id, -1))\n",
    "\n",
    "\n",
    "apply_consecutive_mapping(interactions_df, \"user_id\", \"user_id_int\")\n",
    "apply_consecutive_mapping(interactions_df, \"book_id\", \"book_id_int\", books_df)\n",
    "\n",
    "interactions_df = interactions_df[[\"user_id_int\", \"book_id_int\", \"date_updated\", \"rating\"]]\n",
    "interactions_df = interactions_df.rename(\n",
    "    columns={\"user_id_int\": \"user_id\", \"book_id_int\": \"item_id\", \"date_updated\": \"datetime\"})\n",
    "\n",
    "display(books_df.head(10))\n",
    "display(interactions_df.head(10))"
   ],
   "metadata": {
    "collapsed": false,
    "pycharm": {
     "name": "#%%\n"
    }
   }
  },
  {
   "cell_type": "code",
   "execution_count": 96,
   "outputs": [],
   "source": [
    "DataType = TypeVar(\"DataType\", pd.DataFrame, sparse.csr_matrix)\n",
    "\n",
    "def generate_random_split(data: DataType, seed: int = None) -> tuple[DataType, DataType]:\n",
    "    return train_test_split(data, test_size=0.2, random_state=seed)\n",
    "\n",
    "\n",
    "def create_sparse_matrix(dataframe: pd.DataFrame, shape: tuple[int, int] = None) -> sparse.csr_matrix:\n",
    "    return sparse.csr_matrix((dataframe[\"rating\"], (dataframe[\"user_id\"], dataframe[\"item_id\"])), shape=shape,\n",
    "                             dtype=np.int8)\n",
    "\n",
    "def convert_sparse_matrix_to_sparse_tensor(X) -> tf.SparseTensor:\n",
    "    coo = X.tocoo()\n",
    "    indices = np.mat([coo.row, coo.col]).transpose()\n",
    "    return tf.SparseTensor(indices, np.float32(coo.data), coo.shape)\n",
    "\n"
   ],
   "metadata": {
    "collapsed": false,
    "pycharm": {
     "name": "#%%\n"
    }
   }
  },
  {
   "cell_type": "code",
   "execution_count": 97,
   "outputs": [],
   "source": [
    "shape = (interactions_df[\"user_id\"].max() + 1, interactions_df[\"item_id\"].max() + 1)\n",
    "interaction_matrix = create_sparse_matrix(interactions_df,shape)\n",
    "normalized_matrix = interaction_matrix\n",
    "normalized_matrix.data = (interaction_matrix.data/5.0)\n",
    "train, test = generate_random_split(normalized_matrix, seed=1)\n"
   ],
   "metadata": {
    "collapsed": false,
    "pycharm": {
     "name": "#%%\n"
    }
   }
  },
  {
   "cell_type": "code",
   "execution_count": 98,
   "outputs": [],
   "source": [
    "tensor_train = convert_sparse_matrix_to_sparse_tensor(train)\n",
    "tensor_test = convert_sparse_matrix_to_sparse_tensor(test)"
   ],
   "metadata": {
    "collapsed": false,
    "pycharm": {
     "name": "#%%\n"
    }
   }
  },
  {
   "cell_type": "markdown",
   "source": [
    "# Restricted Boltzmann Machine"
   ],
   "metadata": {
    "collapsed": false,
    "pycharm": {
     "name": "#%% md\n"
    }
   }
  },
  {
   "cell_type": "code",
   "execution_count": 99,
   "outputs": [],
   "source": [
    "hiddenUnits = 20\n",
    "visibleUnits = shape[1]\n",
    "\n",
    "vb = tf.Variable(tf.zeros([visibleUnits]),tf.float32)\n",
    "\n",
    "hb = tf.Variable(tf.zeros([hiddenUnits]), tf.float32)\n",
    "\n",
    "W = tf.Variable(tf.zeros([visibleUnits, hiddenUnits]), tf.float32)"
   ],
   "metadata": {
    "collapsed": false,
    "pycharm": {
     "name": "#%%\n"
    }
   }
  },
  {
   "cell_type": "markdown",
   "source": [
    "We then move on to creating the visible and hidden layer units and setting their activation functions. In this case, we will be using the <code>tf.sigmoid</code> and <code>tf.relu</code> functions as nonlinear activations since it is commonly used in RBM's."
   ],
   "metadata": {
    "collapsed": false,
    "pycharm": {
     "name": "#%% md\n"
    }
   }
  },
  {
   "cell_type": "code",
   "execution_count": 100,
   "outputs": [
    {
     "name": "stdout",
     "output_type": "stream",
     "text": [
      "1\n"
     ]
    },
    {
     "data": {
      "text/plain": "<tf.Tensor: shape=(1, 20), dtype=float32, numpy=\narray([[0., 0., 0., 0., 0., 0., 0., 0., 0., 0., 0., 0., 0., 0., 0., 0.,\n        0., 0., 0., 0.]], dtype=float32)>"
     },
     "execution_count": 100,
     "metadata": {},
     "output_type": "execute_result"
    }
   ],
   "source": [
    "v0 = tf.zeros([visibleUnits], tf.float32)\n",
    "print(len([v0]))\n",
    "# Small test to check if the matrix prod works\n",
    "tf.matmul([v0], W)"
   ],
   "metadata": {
    "collapsed": false,
    "pycharm": {
     "name": "#%%\n"
    }
   }
  },
  {
   "cell_type": "code",
   "execution_count": 101,
   "outputs": [
    {
     "name": "stdout",
     "output_type": "stream",
     "text": [
      "First 15 hidden states:  tf.Tensor([0. 1. 1. 1. 0. 0. 1. 0. 0. 0. 1. 0. 1. 0. 1.], shape=(15,), dtype=float32)\n",
      "Hidden state shape:  (1, 20)\n",
      "v0 state shape:  (53210,)\n",
      "v1 state shape: (53210,)\n"
     ]
    }
   ],
   "source": [
    "# Input processing: Defining a function to return only the generated hidden states\n",
    "\n",
    "def hidden_layer(v0_state, W, hb):\n",
    "    # Probabilities of the hidden units\n",
    "    h0_prob = tf.nn.sigmoid(tf.matmul([v0_state], W)+ hb)\n",
    "\n",
    "    #Sample h  given x\n",
    "    return tf.nn.relu(tf.sign(h0_prob - tf.random.uniform(tf.shape(h0_prob))))\n",
    "\n",
    "# Print output of zeros input\n",
    "h0 = hidden_layer(v0,W,hb)\n",
    "print(\"First 15 hidden states: \", h0[0][0:15])\n",
    "\n",
    "def reconstructed_output(h0_state, W, vb):\n",
    "    v1_prob = tf.nn.sigmoid(tf.matmul(h0_state,tf.transpose(W))+vb)\n",
    "    return tf.nn.relu(tf.sign(v1_prob - tf.random.uniform(tf.shape(v1_prob))))[0]\n",
    "\n",
    "v1 = reconstructed_output(h0, W, vb)\n",
    "print(\"Hidden state shape: \", h0.shape)\n",
    "print(\"v0 state shape: \", v0.shape)\n",
    "print(\"v1 state shape:\", v1.shape)"
   ],
   "metadata": {
    "collapsed": false,
    "pycharm": {
     "name": "#%%\n"
    }
   }
  },
  {
   "cell_type": "code",
   "execution_count": 102,
   "outputs": [
    {
     "name": "stdout",
     "output_type": "stream",
     "text": [
      "error 0.49926704\n"
     ]
    }
   ],
   "source": [
    "# Error function: Mean absolute\n",
    "\n",
    "def error(v0_state, v1_state):\n",
    "    return tf.reduce_mean(tf.square(v0_state - v1_state))\n",
    "\n",
    "err = error(v0,v1)\n",
    "print(\"error\", err.numpy())"
   ],
   "metadata": {
    "collapsed": false,
    "pycharm": {
     "name": "#%%\n"
    }
   }
  },
  {
   "cell_type": "markdown",
   "source": [
    "# Training the RBM"
   ],
   "metadata": {
    "collapsed": false,
    "pycharm": {
     "name": "#%% md\n"
    }
   }
  },
  {
   "cell_type": "code",
   "execution_count": 103,
   "outputs": [],
   "source": [
    "# Train the RBM\n",
    "epochs = 50\n",
    "batchsize = 500\n",
    "K=1\n",
    "alpha = 0.1 # Learning rate"
   ],
   "metadata": {
    "collapsed": false,
    "pycharm": {
     "name": "#%%\n"
    }
   }
  },
  {
   "cell_type": "code",
   "execution_count": 104,
   "outputs": [
    {
     "name": "stdout",
     "output_type": "stream",
     "text": [
      "(7144, 53210)\n",
      "(1787, 53210)\n"
     ]
    }
   ],
   "source": [
    "print(tensor_train.shape)\n",
    "print(tensor_test.shape)"
   ],
   "metadata": {
    "collapsed": false,
    "pycharm": {
     "name": "#%%\n"
    }
   }
  },
  {
   "cell_type": "code",
   "execution_count": 105,
   "outputs": [],
   "source": [
    "train_ds = tf.data.Dataset.from_tensor_slices(tensor_train).batch(batchsize)"
   ],
   "metadata": {
    "collapsed": false,
    "pycharm": {
     "name": "#%%\n"
    }
   }
  },
  {
   "cell_type": "code",
   "execution_count": 106,
   "outputs": [
    {
     "name": "stdout",
     "output_type": "stream",
     "text": [
      "Epoch   1: reconstruction error: 0.31085\n",
      "Epoch   2: reconstruction error: 0.21412\n",
      "Epoch   3: reconstruction error: 0.16179\n",
      "Epoch   4: reconstruction error: 0.13325\n",
      "Epoch   5: reconstruction error: 0.11409\n",
      "Epoch   6: reconstruction error: 0.099951\n",
      "Epoch   7: reconstruction error: 0.089401\n",
      "Epoch   8: reconstruction error: 0.08124\n",
      "Epoch   9: reconstruction error: 0.074092\n",
      "Epoch  10: reconstruction error: 0.068344\n",
      "Epoch  11: reconstruction error: 0.0608\n",
      "Epoch  12: reconstruction error: 0.053713\n",
      "Epoch  13: reconstruction error: 0.0476\n",
      "Epoch  14: reconstruction error: 0.042376\n",
      "Epoch  15: reconstruction error: 0.037819\n",
      "Epoch  16: reconstruction error: 0.03392\n",
      "Epoch  17: reconstruction error: 0.030413\n",
      "Epoch  18: reconstruction error: 0.027353\n",
      "Epoch  19: reconstruction error: 0.024505\n",
      "Epoch  20: reconstruction error: 0.022033\n",
      "Epoch  21: reconstruction error: 0.019962\n",
      "Epoch  22: reconstruction error: 0.018025\n",
      "Epoch  23: reconstruction error: 0.01616\n",
      "Epoch  24: reconstruction error: 0.014326\n",
      "Epoch  25: reconstruction error: 0.012608\n",
      "Epoch  26: reconstruction error: 0.010998\n",
      "Epoch  27: reconstruction error: 0.0091992\n",
      "Epoch  28: reconstruction error: 0.0078169\n",
      "Epoch  29: reconstruction error: 0.0068429\n",
      "Epoch  30: reconstruction error: 0.0059559\n",
      "Epoch  31: reconstruction error: 0.0052725\n",
      "Epoch  32: reconstruction error: 0.0048035\n",
      "Epoch  33: reconstruction error: 0.0044066\n",
      "Epoch  34: reconstruction error: 0.0040975\n",
      "Epoch  35: reconstruction error: 0.0038347\n",
      "Epoch  36: reconstruction error: 0.0035591\n",
      "Epoch  37: reconstruction error: 0.0033873\n",
      "Epoch  38: reconstruction error: 0.003251\n",
      "Epoch  39: reconstruction error: 0.0031078\n",
      "Epoch  40: reconstruction error: 0.0030137\n",
      "Epoch  41: reconstruction error: 0.0029472\n",
      "Epoch  42: reconstruction error: 0.0029008\n",
      "Epoch  43: reconstruction error: 0.0028637\n",
      "Epoch  44: reconstruction error: 0.0028606\n",
      "Epoch  45: reconstruction error: 0.0028202\n",
      "Epoch  46: reconstruction error: 0.0027053\n",
      "Epoch  47: reconstruction error: 0.0026774\n",
      "Epoch  48: reconstruction error: 0.0026572\n",
      "Epoch  49: reconstruction error: 0.0026258\n",
      "Epoch  50: reconstruction error: 0.0025228\n"
     ]
    }
   ],
   "source": [
    "errors = []\n",
    "weights = []\n",
    "\n",
    "for epoch in range(epochs):\n",
    "    batch_number = 0\n",
    "    errors.append([])\n",
    "    for batch_number, batch_x in enumerate(train_ds):\n",
    "\n",
    "        v0_state = tf.sparse.to_dense(batch_x)\n",
    "        v1_state = v0_state\n",
    "        for k in range(K):\n",
    "            v0_state = v1_state\n",
    "            h0_state = hidden_layer(v0_state, W, hb)\n",
    "            v1_state = reconstructed_output(h0_state, W, vb)\n",
    "            h1_state = hidden_layer(v1_state, W, hb)\n",
    "\n",
    "            temp_0 = tf.matmul(tf.squeeze(tf.transpose([v0_state])), tf.squeeze(h0_state))\n",
    "            temp_1 = tf.matmul(tf.squeeze(tf.transpose([v1_state])), tf.squeeze(h1_state))\n",
    "            delta_W = (temp_0 - temp_1) / v0_state.shape[0]\n",
    "\n",
    "            W = W + alpha * delta_W\n",
    "            vb = vb + alpha * tf.reduce_mean(v0_state - v1_state, 0)\n",
    "            hb = hb + alpha * tf.reduce_mean(tf.squeeze(h0_state - h1_state), 0)\n",
    "\n",
    "        err = error(v0_state, v1_state)\n",
    "        errors[-1].append(err * v0_state.shape[0])\n",
    "\n",
    "    errors[-1] = (sum(errors[-1]) / tensor_train.shape[0]) ** 0.5\n",
    "    weights.append(W)\n",
    "    print(f\"Epoch {epoch + 1:3}: reconstruction error: {err:.5}\")"
   ],
   "metadata": {
    "collapsed": false,
    "pycharm": {
     "name": "#%%\n"
    }
   }
  },
  {
   "cell_type": "code",
   "execution_count": 107,
   "outputs": [
    {
     "data": {
      "text/plain": "<Figure size 432x288 with 1 Axes>",
      "image/png": "[encoded data removed]"
     },
     "metadata": {
      "needs_background": "light"
     },
     "output_type": "display_data"
    }
   ],
   "source": [
    "plt.plot(errors)\n",
    "plt.ylabel('Error')\n",
    "plt.xlabel('Epoch')\n",
    "plt.savefig(\"rmse.png\")\n",
    "plt.show()"
   ],
   "metadata": {
    "collapsed": false,
    "pycharm": {
     "name": "#%%\n"
    }
   }
  }
 ],
 "metadata": {
  "kernelspec": {
   "display_name": "Python 3 (ipykernel)",
   "language": "python",
   "name": "python3"
  },
  "language_info": {
   "codemirror_mode": {
    "name": "ipython",
    "version": 3
   },
   "file_extension": ".py",
   "mimetype": "text/x-python",
   "name": "python",
   "nbconvert_exporter": "python",
   "pygments_lexer": "ipython3",
   "version": "3.8.10"
  }
 },
 "nbformat": 4,
 "nbformat_minor": 5
}