{
 "cells": [
  {
   "cell_type": "markdown",
   "metadata": {},
   "source": [
    "<h1 align=\"center\"><font size=\"5\">RECOMMENDATION SYSTEM WITH A RESTRICTED BOLTZMANN MACHINE</font></h1>"
   ]
  },
  {
   "cell_type": "markdown",
   "metadata": {},
   "source": [
    "Welcome to the <b>Recommendation System with a Restricted Boltzmann Machine</b> notebook. In this notebook, we study and go over the usage of a Restricted Boltzmann Machine (RBM) in a Collaborative Filtering based recommendation system. This system is an algorithm that recommends items by trying to find users that are similar to each other based on their item ratings. By the end of this notebook, you should have a deeper understanding of how Restricted Boltzmann Machines are applied, and how to build one using TensorFlow."
   ]
  },
  {
   "cell_type": "markdown",
   "metadata": {},
   "source": [
    "<h2>Table of Contents</h2>\n",
    "\n",
    "<ol>\n",
    "    <li><a href=\"#ref1\">Acquiring the Data</a></li>\n",
    "    <li><a href=\"#ref2\">Loading in the Data</a></li>\n",
    "    <li><a href=\"#ref3\">The Restricted Boltzmann Machine model</a></li>\n",
    "    <li><a href=\"#ref4\">Setting the Model's Parameters</a></li>\n",
    "    <li><a href=\"#ref5\">Recommendation</a></li>\n",
    "</ol>\n",
    "<br>\n",
    "<br>\n",
    "<hr>"
   ]
  },
  {
   "cell_type": "markdown",
   "metadata": {},
   "source": [
    "<a id=\"ref1\"></a>\n",
    "<h2>Acquiring the Data</h2>"
   ]
  },
  {
   "cell_type": "markdown",
   "metadata": {},
   "source": [
    "To start, we need to download the data we are going to use for our system. The datasets we are going to use were acquired by <a href=\"http://grouplens.org/datasets/movielens/\">GroupLens</a> and contain movies, users and movie ratings by these users.\n",
    "\n",
    "After downloading the data, we will extract the datasets to a directory that is easily accessible."
   ]
  },
  {
   "cell_type": "code",
   "execution_count": 1,
   "metadata": {},
   "outputs": [
    {
     "name": "stdout",
     "output_type": "stream",
     "text": [
      "--2021-12-09 09:34:59--  https://raw.githubusercontent.com/IBM/dl-learning-path-assets/main/unsupervised-deeplearning/data/ml-1m.zip\r\n",
      "Resolving raw.githubusercontent.com (raw.githubusercontent.com)... 185.199.108.133, 185.199.109.133, 185.199.110.133, ...\r\n",
      "Connecting to raw.githubusercontent.com (raw.githubusercontent.com)|185.199.108.133|:443... connected.\r\n",
      "HTTP request sent, awaiting response... 200 OK\r\n",
      "Length: 5917549 (5.6M) [application/zip]\r\n",
      "Saving to: ‘moviedataset.zip’\r\n",
      "\r\n",
      "moviedataset.zip    100%[===================>]   5.64M  5.17MB/s    in 1.1s    \r\n",
      "\r\n",
      "2021-12-09 09:35:01 (5.17 MB/s) - ‘moviedataset.zip’ saved [5917549/5917549]\r\n",
      "\r\n",
      "Archive:  moviedataset.zip\r\n",
      "  inflating: ml-1m/movies.dat        \r\n",
      "  inflating: ml-1m/ratings.dat       \r\n",
      "  inflating: ml-1m/README            \r\n",
      "  inflating: ml-1m/users.dat         \r\n"
     ]
    }
   ],
   "source": [
    "!wget -c https://raw.githubusercontent.com/IBM/dl-learning-path-assets/main/unsupervised-deeplearning/data/ml-1m.zip -O moviedataset.zip\n",
    "!unzip -o moviedataset.zip"
   ]
  },
  {
   "cell_type": "markdown",
   "metadata": {},
   "source": [
    "With the datasets in place, let's now import the necessary libraries. We will be using <a href=\"https://www.tensorflow.org/\">Tensorflow</a> and <a href=\"http://www.numpy.org/\">Numpy</a> together to model and initialize our Restricted Boltzmann Machine and <a href=\"http://pandas.pydata.org/pandas-docs/stable/\">Pandas</a> to manipulate our datasets. To import these libraries, run the code cell below."
   ]
  },
  {
   "cell_type": "code",
   "execution_count": 2,
   "metadata": {},
   "outputs": [
    {
     "name": "stderr",
     "output_type": "stream",
     "text": [
      "2021-12-09 09:35:02.674722: W tensorflow/stream_executor/platform/default/dso_loader.cc:64] Could not load dynamic library 'libcudart.so.11.0'; dlerror: libcudart.so.11.0: cannot open shared object file: No such file or directory\n",
      "2021-12-09 09:35:02.674798: I tensorflow/stream_executor/cuda/cudart_stub.cc:29] Ignore above cudart dlerror if you do not have a GPU set up on your machine.\n"
     ]
    }
   ],
   "source": [
    "#Tensorflow library. Used to implement machine learning models\n",
    "import tensorflow as tf\n",
    "#Numpy contains helpful functions for efficient mathematical calculations\n",
    "import numpy as np\n",
    "#Dataframe manipulation library\n",
    "import pandas as pd\n",
    "#Graph plotting library\n",
    "import matplotlib.pyplot as plt\n",
    "%matplotlib inline"
   ]
  },
  {
   "cell_type": "markdown",
   "metadata": {},
   "source": [
    "<hr>"
   ]
  },
  {
   "cell_type": "markdown",
   "metadata": {},
   "source": [
    "<a id=\"ref2\"></a>\n",
    "<h2>Loading in the Data</h2>\n",
    "\n",
    "Let's begin by loading in our data with Pandas. The .dat files containing our data are similar to CSV files, but instead of using the ',' (comma) character to separate entries, it uses '::' (two colons) characters instead. To let Pandas know that it should separate data points at every '::', we have to specify the <code>sep='::'</code> parameter when calling the function.\n",
    "\n",
    "Additionally, we also pass it the <code>header=None</code> parameter due to the fact that our files don't contain any headers.\n",
    "\n",
    "Let's start with the movies.dat file and take a look at its structure:"
   ]
  },
  {
   "cell_type": "code",
   "execution_count": 3,
   "metadata": {
    "scrolled": true
   },
   "outputs": [
    {
     "data": {
      "text/plain": "   0                                   1                             2\n0  1                    Toy Story (1995)   Animation|Children's|Comedy\n1  2                      Jumanji (1995)  Adventure|Children's|Fantasy\n2  3             Grumpier Old Men (1995)                Comedy|Romance\n3  4            Waiting to Exhale (1995)                  Comedy|Drama\n4  5  Father of the Bride Part II (1995)                        Comedy",
      "text/html": "<div>\n<style scoped>\n    .dataframe tbody tr th:only-of-type {\n        vertical-align: middle;\n    }\n\n    .dataframe tbody tr th {\n        vertical-align: top;\n    }\n\n    .dataframe thead th {\n        text-align: right;\n    }\n</style>\n<table border=\"1\" class=\"dataframe\">\n  <thead>\n    <tr style=\"text-align: right;\">\n      <th></th>\n      <th>0</th>\n      <th>1</th>\n      <th>2</th>\n    </tr>\n  </thead>\n  <tbody>\n    <tr>\n      <th>0</th>\n      <td>1</td>\n      <td>Toy Story (1995)</td>\n      <td>Animation|Children's|Comedy</td>\n    </tr>\n    <tr>\n      <th>1</th>\n      <td>2</td>\n      <td>Jumanji (1995)</td>\n      <td>Adventure|Children's|Fantasy</td>\n    </tr>\n    <tr>\n      <th>2</th>\n      <td>3</td>\n      <td>Grumpier Old Men (1995)</td>\n      <td>Comedy|Romance</td>\n    </tr>\n    <tr>\n      <th>3</th>\n      <td>4</td>\n      <td>Waiting to Exhale (1995)</td>\n      <td>Comedy|Drama</td>\n    </tr>\n    <tr>\n      <th>4</th>\n      <td>5</td>\n      <td>Father of the Bride Part II (1995)</td>\n      <td>Comedy</td>\n    </tr>\n  </tbody>\n</table>\n</div>"
     },
     "execution_count": 3,
     "metadata": {},
     "output_type": "execute_result"
    }
   ],
   "source": [
    "#Loading in the movies dataset\n",
    "movies_df = pd.read_csv('ml-1m/movies.dat', sep='::', header=None, engine='python', encoding='latin-1')\n",
    "movies_df.head()"
   ]
  },
  {
   "cell_type": "markdown",
   "metadata": {},
   "source": [
    "We can do the same for the ratings.dat file:"
   ]
  },
  {
   "cell_type": "code",
   "execution_count": 4,
   "metadata": {
    "scrolled": false
   },
   "outputs": [
    {
     "data": {
      "text/plain": "   0     1  2          3\n0  1  1193  5  978300760\n1  1   661  3  978302109\n2  1   914  3  978301968\n3  1  3408  4  978300275\n4  1  2355  5  978824291",
      "text/html": "<div>\n<style scoped>\n    .dataframe tbody tr th:only-of-type {\n        vertical-align: middle;\n    }\n\n    .dataframe tbody tr th {\n        vertical-align: top;\n    }\n\n    .dataframe thead th {\n        text-align: right;\n    }\n</style>\n<table border=\"1\" class=\"dataframe\">\n  <thead>\n    <tr style=\"text-align: right;\">\n      <th></th>\n      <th>0</th>\n      <th>1</th>\n      <th>2</th>\n      <th>3</th>\n    </tr>\n  </thead>\n  <tbody>\n    <tr>\n      <th>0</th>\n      <td>1</td>\n      <td>1193</td>\n      <td>5</td>\n      <td>978300760</td>\n    </tr>\n    <tr>\n      <th>1</th>\n      <td>1</td>\n      <td>661</td>\n      <td>3</td>\n      <td>978302109</td>\n    </tr>\n    <tr>\n      <th>2</th>\n      <td>1</td>\n      <td>914</td>\n      <td>3</td>\n      <td>978301968</td>\n    </tr>\n    <tr>\n      <th>3</th>\n      <td>1</td>\n      <td>3408</td>\n      <td>4</td>\n      <td>978300275</td>\n    </tr>\n    <tr>\n      <th>4</th>\n      <td>1</td>\n      <td>2355</td>\n      <td>5</td>\n      <td>978824291</td>\n    </tr>\n  </tbody>\n</table>\n</div>"
     },
     "execution_count": 4,
     "metadata": {},
     "output_type": "execute_result"
    }
   ],
   "source": [
    "#Loading in the ratings dataset\n",
    "ratings_df = pd.read_csv('ml-1m/ratings.dat', sep='::', header=None, engine='python', encoding='latin-1')\n",
    "ratings_df.head()"
   ]
  },
  {
   "cell_type": "markdown",
   "metadata": {},
   "source": [
    "So our <b>movies_df</b> variable contains a dataframe that stores a movie's unique ID number, title and genres, while our <b>ratings_df</b> variable stores a unique User ID number, a movie's ID that the user has watched, the user's rating to said movie and when the user rated that movie.\n",
    "\n",
    "Let's now rename the columns in these dataframes so we can better convey their data more intuitively:"
   ]
  },
  {
   "cell_type": "code",
   "execution_count": 5,
   "metadata": {},
   "outputs": [
    {
     "data": {
      "text/plain": "   MovieID                               Title                        Genres\n0        1                    Toy Story (1995)   Animation|Children's|Comedy\n1        2                      Jumanji (1995)  Adventure|Children's|Fantasy\n2        3             Grumpier Old Men (1995)                Comedy|Romance\n3        4            Waiting to Exhale (1995)                  Comedy|Drama\n4        5  Father of the Bride Part II (1995)                        Comedy",
      "text/html": "<div>\n<style scoped>\n    .dataframe tbody tr th:only-of-type {\n        vertical-align: middle;\n    }\n\n    .dataframe tbody tr th {\n        vertical-align: top;\n    }\n\n    .dataframe thead th {\n        text-align: right;\n    }\n</style>\n<table border=\"1\" class=\"dataframe\">\n  <thead>\n    <tr style=\"text-align: right;\">\n      <th></th>\n      <th>MovieID</th>\n      <th>Title</th>\n      <th>Genres</th>\n    </tr>\n  </thead>\n  <tbody>\n    <tr>\n      <th>0</th>\n      <td>1</td>\n      <td>Toy Story (1995)</td>\n      <td>Animation|Children's|Comedy</td>\n    </tr>\n    <tr>\n      <th>1</th>\n      <td>2</td>\n      <td>Jumanji (1995)</td>\n      <td>Adventure|Children's|Fantasy</td>\n    </tr>\n    <tr>\n      <th>2</th>\n      <td>3</td>\n      <td>Grumpier Old Men (1995)</td>\n      <td>Comedy|Romance</td>\n    </tr>\n    <tr>\n      <th>3</th>\n      <td>4</td>\n      <td>Waiting to Exhale (1995)</td>\n      <td>Comedy|Drama</td>\n    </tr>\n    <tr>\n      <th>4</th>\n      <td>5</td>\n      <td>Father of the Bride Part II (1995)</td>\n      <td>Comedy</td>\n    </tr>\n  </tbody>\n</table>\n</div>"
     },
     "execution_count": 5,
     "metadata": {},
     "output_type": "execute_result"
    }
   ],
   "source": [
    "movies_df.columns = ['MovieID', 'Title', 'Genres']\n",
    "movies_df.head()"
   ]
  },
  {
   "cell_type": "markdown",
   "metadata": {},
   "source": [
    "And our final ratings_df:"
   ]
  },
  {
   "cell_type": "code",
   "execution_count": 6,
   "metadata": {
    "scrolled": true
   },
   "outputs": [
    {
     "data": {
      "text/plain": "   UserID  MovieID  Rating  Timestamp\n0       1     1193       5  978300760\n1       1      661       3  978302109\n2       1      914       3  978301968\n3       1     3408       4  978300275\n4       1     2355       5  978824291",
      "text/html": "<div>\n<style scoped>\n    .dataframe tbody tr th:only-of-type {\n        vertical-align: middle;\n    }\n\n    .dataframe tbody tr th {\n        vertical-align: top;\n    }\n\n    .dataframe thead th {\n        text-align: right;\n    }\n</style>\n<table border=\"1\" class=\"dataframe\">\n  <thead>\n    <tr style=\"text-align: right;\">\n      <th></th>\n      <th>UserID</th>\n      <th>MovieID</th>\n      <th>Rating</th>\n      <th>Timestamp</th>\n    </tr>\n  </thead>\n  <tbody>\n    <tr>\n      <th>0</th>\n      <td>1</td>\n      <td>1193</td>\n      <td>5</td>\n      <td>978300760</td>\n    </tr>\n    <tr>\n      <th>1</th>\n      <td>1</td>\n      <td>661</td>\n      <td>3</td>\n      <td>978302109</td>\n    </tr>\n    <tr>\n      <th>2</th>\n      <td>1</td>\n      <td>914</td>\n      <td>3</td>\n      <td>978301968</td>\n    </tr>\n    <tr>\n      <th>3</th>\n      <td>1</td>\n      <td>3408</td>\n      <td>4</td>\n      <td>978300275</td>\n    </tr>\n    <tr>\n      <th>4</th>\n      <td>1</td>\n      <td>2355</td>\n      <td>5</td>\n      <td>978824291</td>\n    </tr>\n  </tbody>\n</table>\n</div>"
     },
     "execution_count": 6,
     "metadata": {},
     "output_type": "execute_result"
    }
   ],
   "source": [
    "ratings_df.columns = ['UserID', 'MovieID', 'Rating', 'Timestamp']\n",
    "ratings_df.head()"
   ]
  },
  {
   "cell_type": "markdown",
   "metadata": {},
   "source": [
    "<hr>"
   ]
  },
  {
   "cell_type": "markdown",
   "metadata": {},
   "source": [
    "<a id=\"ref3\"></a>\n",
    "<h2>The Restricted Boltzmann Machine model</h2>"
   ]
  },
  {
   "cell_type": "markdown",
   "metadata": {},
   "source": [
    "<img src=\"https://github.com/fawazsiddiqi/recommendation-system-with-a-Restricted-Boltzmann-Machine-using-tensorflow/blob/master/images/films.png?raw=true\"  width=\"300\">\n",
    "<br>\n",
    "The Restricted Boltzmann Machine model has two layers of neurons, one of which is what we call a visible input layer and the other is called a hidden layer. The hidden layer is used to learn features from the information fed through the input layer. For our model, the input is going to contain X neurons, where X is the amount of movies in our dataset. Each of these neurons will possess a normalized rating value varying from 0 to 1, where 0 meaning that a user has not watched that movie and the closer the value is to 1, the more the user likes the movie that neuron's representing. These normalized values, of course, will be extracted and normalized from the ratings dataset.\n",
    "\n",
    "After passing in the input, we train the RBM on it and have the hidden layer learn its features. These features are what we use to reconstruct the input, which in our case, will predict the ratings for movies that user hasn't watched, which is exactly what we can use to recommend movies!\n",
    "\n",
    "We will now begin to format our dataset to follow the model's expected input."
   ]
  },
  {
   "cell_type": "markdown",
   "metadata": {},
   "source": [
    "<h3>Formatting the Data</h3>"
   ]
  },
  {
   "cell_type": "markdown",
   "metadata": {},
   "source": [
    "First let's see how many movies we have and see if the movie ID's correspond with that value:"
   ]
  },
  {
   "cell_type": "code",
   "execution_count": 7,
   "metadata": {},
   "outputs": [
    {
     "data": {
      "text/plain": "3883"
     },
     "execution_count": 7,
     "metadata": {},
     "output_type": "execute_result"
    }
   ],
   "source": [
    "len(movies_df)"
   ]
  },
  {
   "cell_type": "markdown",
   "metadata": {},
   "source": [
    "Now, we can start formatting the data into input for the RBM. We're going to store the normalized users ratings into as a matrix of user-rating called trX, and normalize the values."
   ]
  },
  {
   "cell_type": "code",
   "execution_count": 8,
   "metadata": {},
   "outputs": [
    {
     "data": {
      "text/plain": "MovieID  1     2     3     4     5     6     7     8     9     10    ...  \\\nUserID                                                               ...   \n1         5.0   NaN   NaN   NaN   NaN   NaN   NaN   NaN   NaN   NaN  ...   \n2         NaN   NaN   NaN   NaN   NaN   NaN   NaN   NaN   NaN   NaN  ...   \n3         NaN   NaN   NaN   NaN   NaN   NaN   NaN   NaN   NaN   NaN  ...   \n4         NaN   NaN   NaN   NaN   NaN   NaN   NaN   NaN   NaN   NaN  ...   \n5         NaN   NaN   NaN   NaN   NaN   2.0   NaN   NaN   NaN   NaN  ...   \n\nMovieID  3943  3944  3945  3946  3947  3948  3949  3950  3951  3952  \nUserID                                                               \n1         NaN   NaN   NaN   NaN   NaN   NaN   NaN   NaN   NaN   NaN  \n2         NaN   NaN   NaN   NaN   NaN   NaN   NaN   NaN   NaN   NaN  \n3         NaN   NaN   NaN   NaN   NaN   NaN   NaN   NaN   NaN   NaN  \n4         NaN   NaN   NaN   NaN   NaN   NaN   NaN   NaN   NaN   NaN  \n5         NaN   NaN   NaN   NaN   NaN   NaN   NaN   NaN   NaN   NaN  \n\n[5 rows x 3706 columns]",
      "text/html": "<div>\n<style scoped>\n    .dataframe tbody tr th:only-of-type {\n        vertical-align: middle;\n    }\n\n    .dataframe tbody tr th {\n        vertical-align: top;\n    }\n\n    .dataframe thead th {\n        text-align: right;\n    }\n</style>\n<table border=\"1\" class=\"dataframe\">\n  <thead>\n    <tr style=\"text-align: right;\">\n      <th>MovieID</th>\n      <th>1</th>\n      <th>2</th>\n      <th>3</th>\n      <th>4</th>\n      <th>5</th>\n      <th>6</th>\n      <th>7</th>\n      <th>8</th>\n      <th>9</th>\n      <th>10</th>\n      <th>...</th>\n      <th>3943</th>\n      <th>3944</th>\n      <th>3945</th>\n      <th>3946</th>\n      <th>3947</th>\n      <th>3948</th>\n      <th>3949</th>\n      <th>3950</th>\n      <th>3951</th>\n      <th>3952</th>\n    </tr>\n    <tr>\n      <th>UserID</th>\n      <th></th>\n      <th></th>\n      <th></th>\n      <th></th>\n      <th></th>\n      <th></th>\n      <th></th>\n      <th></th>\n      <th></th>\n      <th></th>\n      <th></th>\n      <th></th>\n      <th></th>\n      <th></th>\n      <th></th>\n      <th></th>\n      <th></th>\n      <th></th>\n      <th></th>\n      <th></th>\n      <th></th>\n    </tr>\n  </thead>\n  <tbody>\n    <tr>\n      <th>1</th>\n      <td>5.0</td>\n      <td>NaN</td>\n      <td>NaN</td>\n      <td>NaN</td>\n      <td>NaN</td>\n      <td>NaN</td>\n      <td>NaN</td>\n      <td>NaN</td>\n      <td>NaN</td>\n      <td>NaN</td>\n      <td>...</td>\n      <td>NaN</td>\n      <td>NaN</td>\n      <td>NaN</td>\n      <td>NaN</td>\n      <td>NaN</td>\n      <td>NaN</td>\n      <td>NaN</td>\n      <td>NaN</td>\n      <td>NaN</td>\n      <td>NaN</td>\n    </tr>\n    <tr>\n      <th>2</th>\n      <td>NaN</td>\n      <td>NaN</td>\n      <td>NaN</td>\n      <td>NaN</td>\n      <td>NaN</td>\n      <td>NaN</td>\n      <td>NaN</td>\n      <td>NaN</td>\n      <td>NaN</td>\n      <td>NaN</td>\n      <td>...</td>\n      <td>NaN</td>\n      <td>NaN</td>\n      <td>NaN</td>\n      <td>NaN</td>\n      <td>NaN</td>\n      <td>NaN</td>\n      <td>NaN</td>\n      <td>NaN</td>\n      <td>NaN</td>\n      <td>NaN</td>\n    </tr>\n    <tr>\n      <th>3</th>\n      <td>NaN</td>\n      <td>NaN</td>\n      <td>NaN</td>\n      <td>NaN</td>\n      <td>NaN</td>\n      <td>NaN</td>\n      <td>NaN</td>\n      <td>NaN</td>\n      <td>NaN</td>\n      <td>NaN</td>\n      <td>...</td>\n      <td>NaN</td>\n      <td>NaN</td>\n      <td>NaN</td>\n      <td>NaN</td>\n      <td>NaN</td>\n      <td>NaN</td>\n      <td>NaN</td>\n      <td>NaN</td>\n      <td>NaN</td>\n      <td>NaN</td>\n    </tr>\n    <tr>\n      <th>4</th>\n      <td>NaN</td>\n      <td>NaN</td>\n      <td>NaN</td>\n      <td>NaN</td>\n      <td>NaN</td>\n      <td>NaN</td>\n      <td>NaN</td>\n      <td>NaN</td>\n      <td>NaN</td>\n      <td>NaN</td>\n      <td>...</td>\n      <td>NaN</td>\n      <td>NaN</td>\n      <td>NaN</td>\n      <td>NaN</td>\n      <td>NaN</td>\n      <td>NaN</td>\n      <td>NaN</td>\n      <td>NaN</td>\n      <td>NaN</td>\n      <td>NaN</td>\n    </tr>\n    <tr>\n      <th>5</th>\n      <td>NaN</td>\n      <td>NaN</td>\n      <td>NaN</td>\n      <td>NaN</td>\n      <td>NaN</td>\n      <td>2.0</td>\n      <td>NaN</td>\n      <td>NaN</td>\n      <td>NaN</td>\n      <td>NaN</td>\n      <td>...</td>\n      <td>NaN</td>\n      <td>NaN</td>\n      <td>NaN</td>\n      <td>NaN</td>\n      <td>NaN</td>\n      <td>NaN</td>\n      <td>NaN</td>\n      <td>NaN</td>\n      <td>NaN</td>\n      <td>NaN</td>\n    </tr>\n  </tbody>\n</table>\n<p>5 rows × 3706 columns</p>\n</div>"
     },
     "execution_count": 8,
     "metadata": {},
     "output_type": "execute_result"
    }
   ],
   "source": [
    "user_rating_df = ratings_df.pivot(index='UserID', columns='MovieID', values='Rating')\n",
    "user_rating_df.head()"
   ]
  },
  {
   "cell_type": "markdown",
   "metadata": {},
   "source": [
    "Lets normalize it now:"
   ]
  },
  {
   "cell_type": "code",
   "execution_count": 9,
   "metadata": {},
   "outputs": [
    {
     "data": {
      "text/plain": "array([[1., 0., 0., ..., 0., 0., 0.],\n       [0., 0., 0., ..., 0., 0., 0.],\n       [0., 0., 0., ..., 0., 0., 0.],\n       [0., 0., 0., ..., 0., 0., 0.],\n       [0., 0., 0., ..., 0., 0., 0.]])"
     },
     "execution_count": 9,
     "metadata": {},
     "output_type": "execute_result"
    }
   ],
   "source": [
    "norm_user_rating_df = user_rating_df.fillna(0) / 5.0\n",
    "trX = norm_user_rating_df.values\n",
    "trX[0:5]"
   ]
  },
  {
   "cell_type": "markdown",
   "metadata": {},
   "source": [
    "<hr>"
   ]
  },
  {
   "cell_type": "markdown",
   "metadata": {},
   "source": [
    "<a id=\"ref4\"></a>\n",
    "<h2>Setting the Model's Parameters</h2>"
   ]
  },
  {
   "cell_type": "markdown",
   "metadata": {},
   "source": [
    "Next, let's start building our RBM with TensorFlow. We'll begin by first determining the number of neurons in the hidden layers and then creating placeholder variables for storing our visible layer biases, hidden layer biases and weights that connects the hidden layer with the visible layer. We will be arbitrarily setting the number of neurons in the hidden layers to 20. You can freely set this value to any number you want since each neuron in the hidden layer will end up learning a feature."
   ]
  },
  {
   "cell_type": "code",
   "execution_count": 10,
   "metadata": {},
   "outputs": [
    {
     "name": "stderr",
     "output_type": "stream",
     "text": [
      "2021-12-09 09:35:20.571361: W tensorflow/stream_executor/platform/default/dso_loader.cc:64] Could not load dynamic library 'libcuda.so.1'; dlerror: libcuda.so.1: cannot open shared object file: No such file or directory\n",
      "2021-12-09 09:35:20.571392: W tensorflow/stream_executor/cuda/cuda_driver.cc:269] failed call to cuInit: UNKNOWN ERROR (303)\n",
      "2021-12-09 09:35:20.571415: I tensorflow/stream_executor/cuda/cuda_diagnostics.cc:156] kernel driver does not appear to be running on this host (darin-VirtualBox): /proc/driver/nvidia/version does not exist\n",
      "2021-12-09 09:35:20.571694: I tensorflow/core/platform/cpu_feature_guard.cc:151] This TensorFlow binary is optimized with oneAPI Deep Neural Network Library (oneDNN) to use the following CPU instructions in performance-critical operations:  AVX2\n",
      "To enable them in other operations, rebuild TensorFlow with the appropriate compiler flags.\n"
     ]
    }
   ],
   "source": [
    "hiddenUnits = 20\n",
    "visibleUnits =  len(user_rating_df.columns)\n",
    "\n",
    "vb = tf.Variable(tf.zeros([visibleUnits]), tf.float32) #Number of unique movies\n",
    "hb = tf.Variable(tf.zeros([hiddenUnits]), tf.float32) #Number of features we're going to learn\n",
    "W = tf.Variable(tf.zeros([visibleUnits, hiddenUnits]), tf.float32)"
   ]
  },
  {
   "cell_type": "markdown",
   "metadata": {},
   "source": [
    "We then move on to creating the visible and hidden layer units and setting their activation functions. In this case, we will be using the <code>tf.sigmoid</code> and <code>tf.relu</code> functions as nonlinear activations since it is commonly used in RBM's."
   ]
  },
  {
   "cell_type": "code",
   "execution_count": 11,
   "metadata": {},
   "outputs": [
    {
     "data": {
      "text/plain": "<tf.Tensor: shape=(1, 20), dtype=float32, numpy=\narray([[0., 0., 0., 0., 0., 0., 0., 0., 0., 0., 0., 0., 0., 0., 0., 0.,\n        0., 0., 0., 0.]], dtype=float32)>"
     },
     "execution_count": 11,
     "metadata": {},
     "output_type": "execute_result"
    }
   ],
   "source": [
    "v0 = tf.zeros([visibleUnits], tf.float32)\n",
    "#testing to see if the matrix product works\n",
    "tf.matmul([v0], W)"
   ]
  },
  {
   "cell_type": "code",
   "execution_count": 12,
   "metadata": {},
   "outputs": [
    {
     "name": "stdout",
     "output_type": "stream",
     "text": [
      "first 15 hidden states:  tf.Tensor([0. 0. 0. 0. 0. 0. 1. 1. 0. 1. 1. 0. 0. 0. 1.], shape=(15,), dtype=float32)\n",
      "hidden state shape:  (1, 20)\n",
      "v0 state shape:   (3706,)\n",
      "v1 state shape:   (3706,)\n"
     ]
    }
   ],
   "source": [
    "#Phase 1: Input Processing\n",
    "#defining a function to return only the generated hidden states \n",
    "def hidden_layer(v0_state, W, hb):\n",
    "    h0_prob = tf.nn.sigmoid(tf.matmul([v0_state], W) + hb)  #probabilities of the hidden units\n",
    "    h0_state = tf.nn.relu(tf.sign(h0_prob - tf.random.uniform(tf.shape(h0_prob)))) #sample_h_given_X\n",
    "    return h0_state\n",
    "\n",
    "#printing output of zeros input\n",
    "h0 = hidden_layer(v0, W, hb)\n",
    "print(\"first 15 hidden states: \", h0[0][0:15])\n",
    "\n",
    "def reconstructed_output(h0_state, W, vb):\n",
    "    v1_prob = tf.nn.sigmoid(tf.matmul(h0_state, tf.transpose(W)) + vb) \n",
    "    v1_state = tf.nn.relu(tf.sign(v1_prob - tf.random.uniform(tf.shape(v1_prob)))) #sample_v_given_h\n",
    "    return v1_state[0]\n",
    "\n",
    "\n",
    "v1 = reconstructed_output(h0, W, vb)\n",
    "print(\"hidden state shape: \", h0.shape)\n",
    "print(\"v0 state shape:  \", v0.shape)\n",
    "print(\"v1 state shape:  \", v1.shape)"
   ]
  },
  {
   "cell_type": "markdown",
   "metadata": {},
   "source": [
    "And set the error function, which in this case will be the Mean Absolute Error Function."
   ]
  },
  {
   "cell_type": "code",
   "execution_count": 13,
   "metadata": {},
   "outputs": [
    {
     "name": "stdout",
     "output_type": "stream",
     "text": [
      "error 0.48300055\n"
     ]
    }
   ],
   "source": [
    "def error(v0_state, v1_state):\n",
    "    return tf.reduce_mean(tf.square(v0_state - v1_state))\n",
    "\n",
    "err = tf.reduce_mean(tf.square(v0 - v1))\n",
    "print(\"error\" , err.numpy())"
   ]
  },
  {
   "cell_type": "markdown",
   "metadata": {},
   "source": [
    "Now we train the RBM with 5 epochs with each epoch using a batchsize of 500, giving 12 batches. After training, we print out a graph with the error by epoch."
   ]
  },
  {
   "cell_type": "code",
   "execution_count": 14,
   "metadata": {
    "scrolled": false
   },
   "outputs": [
    {
     "name": "stdout",
     "output_type": "stream",
     "text": [
      "Epoch: 1 batch #: 0  of 12 sample #: 499 reconstruction error: 0.040270\n",
      "Epoch: 1 batch #: 1  of 12 sample #: 499 reconstruction error: 0.027642\n",
      "Epoch: 1 batch #: 2  of 12 sample #: 499 reconstruction error: 0.041932\n",
      "Epoch: 1 batch #: 3  of 12 sample #: 499 reconstruction error: 0.036643\n",
      "Epoch: 1 batch #: 4  of 12 sample #: 499 reconstruction error: 0.038683\n",
      "Epoch: 1 batch #: 5  of 12 sample #: 499 reconstruction error: 0.028786\n",
      "Epoch: 1 batch #: 6  of 12 sample #: 499 reconstruction error: 0.024933\n",
      "Epoch: 1 batch #: 7  of 12 sample #: 499 reconstruction error: 0.027631\n",
      "Epoch: 1 batch #: 8  of 12 sample #: 499 reconstruction error: 0.004404\n",
      "Epoch: 1 batch #: 9  of 12 sample #: 499 reconstruction error: 0.110793\n",
      "Epoch: 1 batch #: 10  of 12 sample #: 499 reconstruction error: 0.017906\n",
      "Epoch: 1 batch #: 11  of 12 sample #: 499 reconstruction error: 0.100432\n",
      "Epoch: 1 batch #: 12  of 12 sample #: 39 reconstruction error: 0.073967\n",
      "Epoch: 2 batch #: 0  of 12 sample #: 499 reconstruction error: 0.025375\n",
      "Epoch: 2 batch #: 1  of 12 sample #: 499 reconstruction error: 0.026131\n",
      "Epoch: 2 batch #: 2  of 12 sample #: 499 reconstruction error: 0.040799\n",
      "Epoch: 2 batch #: 3  of 12 sample #: 499 reconstruction error: 0.036104\n",
      "Epoch: 2 batch #: 4  of 12 sample #: 499 reconstruction error: 0.038251\n",
      "Epoch: 2 batch #: 5  of 12 sample #: 499 reconstruction error: 0.027706\n",
      "Epoch: 2 batch #: 6  of 12 sample #: 499 reconstruction error: 0.017539\n",
      "Epoch: 2 batch #: 7  of 12 sample #: 499 reconstruction error: 0.018780\n",
      "Epoch: 2 batch #: 8  of 12 sample #: 499 reconstruction error: 0.006616\n",
      "Epoch: 2 batch #: 9  of 12 sample #: 499 reconstruction error: 0.107717\n",
      "Epoch: 2 batch #: 10  of 12 sample #: 499 reconstruction error: 0.024490\n",
      "Epoch: 2 batch #: 11  of 12 sample #: 499 reconstruction error: 0.101997\n",
      "Epoch: 2 batch #: 12  of 12 sample #: 39 reconstruction error: 0.072779\n",
      "Epoch: 3 batch #: 0  of 12 sample #: 499 reconstruction error: 0.026940\n",
      "Epoch: 3 batch #: 1  of 12 sample #: 499 reconstruction error: 0.024026\n",
      "Epoch: 3 batch #: 2  of 12 sample #: 499 reconstruction error: 0.038910\n",
      "Epoch: 3 batch #: 3  of 12 sample #: 499 reconstruction error: 0.029358\n",
      "Epoch: 3 batch #: 4  of 12 sample #: 499 reconstruction error: 0.042353\n",
      "Epoch: 3 batch #: 5  of 12 sample #: 499 reconstruction error: 0.041306\n",
      "Epoch: 3 batch #: 6  of 12 sample #: 499 reconstruction error: 0.028548\n",
      "Epoch: 3 batch #: 7  of 12 sample #: 499 reconstruction error: 0.019374\n",
      "Epoch: 3 batch #: 8  of 12 sample #: 499 reconstruction error: 0.005267\n",
      "Epoch: 3 batch #: 9  of 12 sample #: 499 reconstruction error: 0.110523\n",
      "Epoch: 3 batch #: 10  of 12 sample #: 499 reconstruction error: 0.015208\n",
      "Epoch: 3 batch #: 11  of 12 sample #: 499 reconstruction error: 0.098057\n",
      "Epoch: 3 batch #: 12  of 12 sample #: 39 reconstruction error: 0.073157\n",
      "Epoch: 4 batch #: 0  of 12 sample #: 499 reconstruction error: 0.027965\n",
      "Epoch: 4 batch #: 1  of 12 sample #: 499 reconstruction error: 0.027102\n",
      "Epoch: 4 batch #: 2  of 12 sample #: 499 reconstruction error: 0.040637\n",
      "Epoch: 4 batch #: 3  of 12 sample #: 499 reconstruction error: 0.030059\n",
      "Epoch: 4 batch #: 4  of 12 sample #: 499 reconstruction error: 0.042947\n",
      "Epoch: 4 batch #: 5  of 12 sample #: 499 reconstruction error: 0.031052\n",
      "Epoch: 4 batch #: 6  of 12 sample #: 499 reconstruction error: 0.022990\n",
      "Epoch: 4 batch #: 7  of 12 sample #: 499 reconstruction error: 0.012898\n",
      "Epoch: 4 batch #: 8  of 12 sample #: 499 reconstruction error: 0.004620\n",
      "Epoch: 4 batch #: 9  of 12 sample #: 499 reconstruction error: 0.109606\n",
      "Epoch: 4 batch #: 10  of 12 sample #: 499 reconstruction error: 0.016719\n",
      "Epoch: 4 batch #: 11  of 12 sample #: 499 reconstruction error: 0.096114\n",
      "Epoch: 4 batch #: 12  of 12 sample #: 39 reconstruction error: 0.068516\n",
      "Epoch: 5 batch #: 0  of 12 sample #: 499 reconstruction error: 0.031743\n",
      "Epoch: 5 batch #: 1  of 12 sample #: 499 reconstruction error: 0.033254\n",
      "Epoch: 5 batch #: 2  of 12 sample #: 499 reconstruction error: 0.039989\n",
      "Epoch: 5 batch #: 3  of 12 sample #: 499 reconstruction error: 0.040529\n",
      "Epoch: 5 batch #: 4  of 12 sample #: 499 reconstruction error: 0.046400\n",
      "Epoch: 5 batch #: 5  of 12 sample #: 499 reconstruction error: 0.038608\n",
      "Epoch: 5 batch #: 6  of 12 sample #: 499 reconstruction error: 0.023853\n",
      "Epoch: 5 batch #: 7  of 12 sample #: 499 reconstruction error: 0.019104\n",
      "Epoch: 5 batch #: 8  of 12 sample #: 499 reconstruction error: 0.005429\n",
      "Epoch: 5 batch #: 9  of 12 sample #: 499 reconstruction error: 0.111765\n",
      "Epoch: 5 batch #: 10  of 12 sample #: 499 reconstruction error: 0.023519\n",
      "Epoch: 5 batch #: 11  of 12 sample #: 499 reconstruction error: 0.092768\n",
      "Epoch: 5 batch #: 12  of 12 sample #: 39 reconstruction error: 0.075586\n"
     ]
    },
    {
     "data": {
      "text/plain": "<Figure size 432x288 with 1 Axes>",
      "image/png": "[encoded data removed]"
     },
     "metadata": {
      "needs_background": "light"
     },
     "output_type": "display_data"
    }
   ],
   "source": [
    "epochs = 5\n",
    "batchsize = 500\n",
    "errors = []\n",
    "weights = []\n",
    "K=1\n",
    "alpha = 0.1\n",
    "\n",
    "#creating datasets\n",
    "train_ds = \\\n",
    "    tf.data.Dataset.from_tensor_slices((np.float32(trX))).batch(batchsize)\n",
    "\n",
    "\n",
    "\n",
    "#for i in range(epochs):\n",
    "#    for start, end in zip( range(0, len(trX), batchsize), range(batchsize, len(trX), batchsize)):\n",
    "#        batch = trX[start:end]\n",
    "#        cur_w = sess.run(update_w, feed_dict={v0: batch, W: prv_w, vb: prv_vb, hb: prv_hb})\n",
    "#        cur_vb = sess.run(update_vb, feed_dict={v0: batch, W: prv_w, vb: prv_vb, hb: prv_hb})\n",
    "#        cur_nb = sess.run(update_hb, feed_dict={v0: batch, W: prv_w, vb: prv_vb, hb: prv_hb})\n",
    "#        prv_w = cur_w\n",
    "#        prv_vb = cur_vb\n",
    "#        prv_hb = cur_hb\n",
    "#    errors.append(sess.run(err_sum, feed_dict={v0: trX, W: cur_w, vb: cur_vb, hb: cur_hb}))\n",
    "#    print (errors[-1])\n",
    "v0_state=v0\n",
    "for epoch in range(epochs):\n",
    "    batch_number = 0\n",
    "    for batch_x in train_ds:\n",
    "\n",
    "        for i_sample in range(len(batch_x)):           \n",
    "            for k in range(K):\n",
    "                v0_state = batch_x[i_sample]\n",
    "                h0_state = hidden_layer(v0_state, W, hb)\n",
    "                v1_state = reconstructed_output(h0_state, W, vb)\n",
    "                h1_state = hidden_layer(v1_state, W, hb)\n",
    "\n",
    "                delta_W = tf.matmul(tf.transpose([v0_state]), h0_state) - tf.matmul(tf.transpose([v1_state]), h1_state)\n",
    "                W = W + alpha * delta_W\n",
    "\n",
    "                vb = vb + alpha * tf.reduce_mean(v0_state - v1_state, 0)\n",
    "                hb = hb + alpha * tf.reduce_mean(h0_state - h1_state, 0) \n",
    "\n",
    "                v0_state = v1_state\n",
    "\n",
    "            if i_sample == len(batch_x)-1:\n",
    "                err = error(batch_x[i_sample], v1_state)\n",
    "                errors.append(err)\n",
    "                weights.append(W)\n",
    "                print ( 'Epoch: %d' % (epoch + 1), \n",
    "                       \"batch #: %i \" % batch_number, \"of %i\" % (len(trX)/batchsize), \n",
    "                       \"sample #: %i\" % i_sample,\n",
    "                       'reconstruction error: %f' % err)\n",
    "        batch_number += 1\n",
    "\n",
    "\n",
    "\n",
    "\n",
    "plt.plot(errors)\n",
    "plt.ylabel('Error')\n",
    "plt.xlabel('Epoch')\n",
    "plt.show()"
   ]
  },
  {
   "cell_type": "markdown",
   "metadata": {},
   "source": [
    "<hr>"
   ]
  },
  {
   "cell_type": "markdown",
   "metadata": {},
   "source": [
    "<a id=\"ref5\"></a>\n",
    "<h2>Recommendation</h2>"
   ]
  },
  {
   "cell_type": "markdown",
   "metadata": {},
   "source": [
    "We can now predict movies that an arbitrarily selected user might like. This can be accomplished by feeding in the user's watched movie preferences into the RBM and then reconstructing the input. The values that the RBM gives us will attempt to estimate the user's preferences for movies that he hasn't watched based on the preferences of the users that the RBM was trained on."
   ]
  },
  {
   "cell_type": "markdown",
   "metadata": {},
   "source": [
    "Lets first select a <b>User ID</b> of our mock user:"
   ]
  },
  {
   "cell_type": "code",
   "execution_count": 24,
   "metadata": {},
   "outputs": [],
   "source": [
    "mock_user_id = 215"
   ]
  },
  {
   "cell_type": "code",
   "execution_count": 28,
   "metadata": {},
   "outputs": [
    {
     "name": "stdout",
     "output_type": "stream",
     "text": [
      "<class 'numpy.ndarray'>\n",
      "tf.Tensor([0.8 0.  0.  ... 0.  0.  0. ], shape=(3706,), dtype=float32)\n"
     ]
    },
    {
     "data": {
      "text/plain": "TensorShape([3706])"
     },
     "execution_count": 28,
     "metadata": {},
     "output_type": "execute_result"
    }
   ],
   "source": [
    "#Selecting the input user\n",
    "inputUser = trX[mock_user_id-1].reshape(1, -1)\n",
    "\n",
    "print(type(inputUser))\n",
    "inputUser = tf.convert_to_tensor(trX[mock_user_id-1],\"float32\")\n",
    "v0 = inputUser\n",
    "\n",
    "print(v0)\n",
    "v0.shape"
   ]
  },
  {
   "cell_type": "code",
   "execution_count": 30,
   "metadata": {},
   "outputs": [
    {
     "name": "stdout",
     "output_type": "stream",
     "text": [
      "3706\n"
     ]
    },
    {
     "data": {
      "text/plain": "TensorShape([3706])"
     },
     "execution_count": 30,
     "metadata": {},
     "output_type": "execute_result"
    }
   ],
   "source": [
    "print(visibleUnits)\n",
    "v0test = tf.zeros([visibleUnits], tf.float32)\n",
    "v0test.shape"
   ]
  },
  {
   "cell_type": "code",
   "execution_count": 18,
   "metadata": {},
   "outputs": [
    {
     "name": "stdout",
     "output_type": "stream",
     "text": [
      "tf.Tensor([0.15050706 0.05457824 0.00259793 ... 0.00048283 0.00025097 0.00062904], shape=(3706,), dtype=float32)\n"
     ]
    }
   ],
   "source": [
    "#Feeding in the user and reconstructing the input\n",
    "\n",
    "hh0 = tf.nn.sigmoid(tf.matmul([v0], W) + hb)\n",
    "\n",
    "vv1 = tf.nn.sigmoid(tf.matmul(hh0, tf.transpose(W)) + vb)\n",
    "\n",
    "rec = vv1\n",
    "\n",
    "tf.maximum(rec,1)\n",
    "for i in vv1:\n",
    "    print(i)"
   ]
  },
  {
   "cell_type": "markdown",
   "metadata": {},
   "source": [
    "We can then list the 20 most recommended movies for our mock user by sorting it by their scores given by our model."
   ]
  },
  {
   "cell_type": "code",
   "execution_count": 19,
   "metadata": {},
   "outputs": [
    {
     "data": {
      "text/plain": "      MovieID                                              Title  \\\n1192     1210  Star Wars: Episode VI - Return of the Jedi (1983)   \n2502     2571                                 Matrix, The (1999)   \n257       260          Star Wars: Episode IV - A New Hope (1977)   \n1180     1198                     Raiders of the Lost Ark (1981)   \n1353     1374                Star Trek: The Wrath of Khan (1982)   \n1220     1240                             Terminator, The (1984)   \n2559     2628   Star Wars: Episode I - The Phantom Menace (1999)   \n2847     2916                                Total Recall (1990)   \n1178     1196  Star Wars: Episode V - The Empire Strikes Back...   \n1023     1036                                    Die Hard (1988)   \n476       480                               Jurassic Park (1993)   \n1539     1580                                Men in Black (1997)   \n1271     1291          Indiana Jones and the Last Crusade (1989)   \n1250     1270                          Back to the Future (1985)   \n1179     1197                         Princess Bride, The (1987)   \n1182     1200                                      Aliens (1986)   \n3458     3527                                    Predator (1987)   \n1081     1097                  E.T. the Extra-Terrestrial (1982)   \n325       329                      Star Trek: Generations (1994)   \n2964     3033                                  Spaceballs (1987)   \n\n                                   Genres  RecommendationScore  \n1192  Action|Adventure|Romance|Sci-Fi|War             0.892266  \n2502               Action|Sci-Fi|Thriller             0.689065  \n257       Action|Adventure|Fantasy|Sci-Fi             0.656898  \n1180                     Action|Adventure             0.652265  \n1353              Action|Adventure|Sci-Fi             0.651651  \n1220               Action|Sci-Fi|Thriller             0.576768  \n2559      Action|Adventure|Fantasy|Sci-Fi             0.574397  \n2847     Action|Adventure|Sci-Fi|Thriller             0.560215  \n1178    Action|Adventure|Drama|Sci-Fi|War             0.536545  \n1023                      Action|Thriller             0.506047  \n476               Action|Adventure|Sci-Fi             0.475507  \n1539       Action|Adventure|Comedy|Sci-Fi             0.443958  \n1271                     Action|Adventure             0.421959  \n1250                        Comedy|Sci-Fi             0.392819  \n1179      Action|Adventure|Comedy|Romance             0.387782  \n1182           Action|Sci-Fi|Thriller|War             0.367859  \n3458               Action|Sci-Fi|Thriller             0.367784  \n1081      Children's|Drama|Fantasy|Sci-Fi             0.353594  \n325               Action|Adventure|Sci-Fi             0.344506  \n2964                        Comedy|Sci-Fi             0.336773  ",
      "text/html": "<div>\n<style scoped>\n    .dataframe tbody tr th:only-of-type {\n        vertical-align: middle;\n    }\n\n    .dataframe tbody tr th {\n        vertical-align: top;\n    }\n\n    .dataframe thead th {\n        text-align: right;\n    }\n</style>\n<table border=\"1\" class=\"dataframe\">\n  <thead>\n    <tr style=\"text-align: right;\">\n      <th></th>\n      <th>MovieID</th>\n      <th>Title</th>\n      <th>Genres</th>\n      <th>RecommendationScore</th>\n    </tr>\n  </thead>\n  <tbody>\n    <tr>\n      <th>1192</th>\n      <td>1210</td>\n      <td>Star Wars: Episode VI - Return of the Jedi (1983)</td>\n      <td>Action|Adventure|Romance|Sci-Fi|War</td>\n      <td>0.892266</td>\n    </tr>\n    <tr>\n      <th>2502</th>\n      <td>2571</td>\n      <td>Matrix, The (1999)</td>\n      <td>Action|Sci-Fi|Thriller</td>\n      <td>0.689065</td>\n    </tr>\n    <tr>\n      <th>257</th>\n      <td>260</td>\n      <td>Star Wars: Episode IV - A New Hope (1977)</td>\n      <td>Action|Adventure|Fantasy|Sci-Fi</td>\n      <td>0.656898</td>\n    </tr>\n    <tr>\n      <th>1180</th>\n      <td>1198</td>\n      <td>Raiders of the Lost Ark (1981)</td>\n      <td>Action|Adventure</td>\n      <td>0.652265</td>\n    </tr>\n    <tr>\n      <th>1353</th>\n      <td>1374</td>\n      <td>Star Trek: The Wrath of Khan (1982)</td>\n      <td>Action|Adventure|Sci-Fi</td>\n      <td>0.651651</td>\n    </tr>\n    <tr>\n      <th>1220</th>\n      <td>1240</td>\n      <td>Terminator, The (1984)</td>\n      <td>Action|Sci-Fi|Thriller</td>\n      <td>0.576768</td>\n    </tr>\n    <tr>\n      <th>2559</th>\n      <td>2628</td>\n      <td>Star Wars: Episode I - The Phantom Menace (1999)</td>\n      <td>Action|Adventure|Fantasy|Sci-Fi</td>\n      <td>0.574397</td>\n    </tr>\n    <tr>\n      <th>2847</th>\n      <td>2916</td>\n      <td>Total Recall (1990)</td>\n      <td>Action|Adventure|Sci-Fi|Thriller</td>\n      <td>0.560215</td>\n    </tr>\n    <tr>\n      <th>1178</th>\n      <td>1196</td>\n      <td>Star Wars: Episode V - The Empire Strikes Back...</td>\n      <td>Action|Adventure|Drama|Sci-Fi|War</td>\n      <td>0.536545</td>\n    </tr>\n    <tr>\n      <th>1023</th>\n      <td>1036</td>\n      <td>Die Hard (1988)</td>\n      <td>Action|Thriller</td>\n      <td>0.506047</td>\n    </tr>\n    <tr>\n      <th>476</th>\n      <td>480</td>\n      <td>Jurassic Park (1993)</td>\n      <td>Action|Adventure|Sci-Fi</td>\n      <td>0.475507</td>\n    </tr>\n    <tr>\n      <th>1539</th>\n      <td>1580</td>\n      <td>Men in Black (1997)</td>\n      <td>Action|Adventure|Comedy|Sci-Fi</td>\n      <td>0.443958</td>\n    </tr>\n    <tr>\n      <th>1271</th>\n      <td>1291</td>\n      <td>Indiana Jones and the Last Crusade (1989)</td>\n      <td>Action|Adventure</td>\n      <td>0.421959</td>\n    </tr>\n    <tr>\n      <th>1250</th>\n      <td>1270</td>\n      <td>Back to the Future (1985)</td>\n      <td>Comedy|Sci-Fi</td>\n      <td>0.392819</td>\n    </tr>\n    <tr>\n      <th>1179</th>\n      <td>1197</td>\n      <td>Princess Bride, The (1987)</td>\n      <td>Action|Adventure|Comedy|Romance</td>\n      <td>0.387782</td>\n    </tr>\n    <tr>\n      <th>1182</th>\n      <td>1200</td>\n      <td>Aliens (1986)</td>\n      <td>Action|Sci-Fi|Thriller|War</td>\n      <td>0.367859</td>\n    </tr>\n    <tr>\n      <th>3458</th>\n      <td>3527</td>\n      <td>Predator (1987)</td>\n      <td>Action|Sci-Fi|Thriller</td>\n      <td>0.367784</td>\n    </tr>\n    <tr>\n      <th>1081</th>\n      <td>1097</td>\n      <td>E.T. the Extra-Terrestrial (1982)</td>\n      <td>Children's|Drama|Fantasy|Sci-Fi</td>\n      <td>0.353594</td>\n    </tr>\n    <tr>\n      <th>325</th>\n      <td>329</td>\n      <td>Star Trek: Generations (1994)</td>\n      <td>Action|Adventure|Sci-Fi</td>\n      <td>0.344506</td>\n    </tr>\n    <tr>\n      <th>2964</th>\n      <td>3033</td>\n      <td>Spaceballs (1987)</td>\n      <td>Comedy|Sci-Fi</td>\n      <td>0.336773</td>\n    </tr>\n  </tbody>\n</table>\n</div>"
     },
     "execution_count": 19,
     "metadata": {},
     "output_type": "execute_result"
    }
   ],
   "source": [
    "scored_movies_df_mock = movies_df[movies_df['MovieID'].isin(user_rating_df.columns)]\n",
    "scored_movies_df_mock = scored_movies_df_mock.assign(RecommendationScore = rec[0])\n",
    "scored_movies_df_mock.sort_values([\"RecommendationScore\"], ascending=False).head(20)"
   ]
  },
  {
   "cell_type": "markdown",
   "metadata": {},
   "source": [
    "So, how to recommend the movies that the user has not watched yet? "
   ]
  },
  {
   "cell_type": "markdown",
   "metadata": {},
   "source": [
    "Now, we can find all the movies that our mock user has watched before:"
   ]
  },
  {
   "cell_type": "code",
   "execution_count": 20,
   "metadata": {},
   "outputs": [
    {
     "data": {
      "text/plain": "       UserID  MovieID  Rating  Timestamp\n31603     215     3793       5  977099259\n31604     215        1       4  979174987\n31605     215     1197       5  976899663\n31606     215     2302       5  976899718\n31607     215     2167       5  976899770",
      "text/html": "<div>\n<style scoped>\n    .dataframe tbody tr th:only-of-type {\n        vertical-align: middle;\n    }\n\n    .dataframe tbody tr th {\n        vertical-align: top;\n    }\n\n    .dataframe thead th {\n        text-align: right;\n    }\n</style>\n<table border=\"1\" class=\"dataframe\">\n  <thead>\n    <tr style=\"text-align: right;\">\n      <th></th>\n      <th>UserID</th>\n      <th>MovieID</th>\n      <th>Rating</th>\n      <th>Timestamp</th>\n    </tr>\n  </thead>\n  <tbody>\n    <tr>\n      <th>31603</th>\n      <td>215</td>\n      <td>3793</td>\n      <td>5</td>\n      <td>977099259</td>\n    </tr>\n    <tr>\n      <th>31604</th>\n      <td>215</td>\n      <td>1</td>\n      <td>4</td>\n      <td>979174987</td>\n    </tr>\n    <tr>\n      <th>31605</th>\n      <td>215</td>\n      <td>1197</td>\n      <td>5</td>\n      <td>976899663</td>\n    </tr>\n    <tr>\n      <th>31606</th>\n      <td>215</td>\n      <td>2302</td>\n      <td>5</td>\n      <td>976899718</td>\n    </tr>\n    <tr>\n      <th>31607</th>\n      <td>215</td>\n      <td>2167</td>\n      <td>5</td>\n      <td>976899770</td>\n    </tr>\n  </tbody>\n</table>\n</div>"
     },
     "execution_count": 20,
     "metadata": {},
     "output_type": "execute_result"
    }
   ],
   "source": [
    "movies_df_mock = ratings_df[ratings_df['UserID'] == mock_user_id]\n",
    "movies_df_mock.head()"
   ]
  },
  {
   "cell_type": "markdown",
   "metadata": {},
   "source": [
    "In the next cell, we merge all the movies that our mock users has watched with the predicted scores based on his historical data:"
   ]
  },
  {
   "cell_type": "code",
   "execution_count": 21,
   "metadata": {},
   "outputs": [],
   "source": [
    "#Merging movies_df with ratings_df by MovieID\n",
    "merged_df_mock = scored_movies_df_mock.merge(movies_df_mock, on='MovieID', how='outer')"
   ]
  },
  {
   "cell_type": "markdown",
   "metadata": {},
   "source": [
    "lets sort it and take a look at the first 20 rows:"
   ]
  },
  {
   "cell_type": "code",
   "execution_count": 22,
   "metadata": {},
   "outputs": [
    {
     "data": {
      "text/plain": "      MovieID                                              Title  \\\n1120     1210  Star Wars: Episode VI - Return of the Jedi (1983)   \n2374     2571                                 Matrix, The (1999)   \n253       260          Star Wars: Episode IV - A New Hope (1977)   \n1108     1198                     Raiders of the Lost Ark (1981)   \n1275     1374                Star Trek: The Wrath of Khan (1982)   \n1148     1240                             Terminator, The (1984)   \n2426     2628   Star Wars: Episode I - The Phantom Menace (1999)   \n2708     2916                                Total Recall (1990)   \n1106     1196  Star Wars: Episode V - The Empire Strikes Back...   \n971      1036                                    Die Hard (1988)   \n466       480                               Jurassic Park (1993)   \n1449     1580                                Men in Black (1997)   \n1199     1291          Indiana Jones and the Last Crusade (1989)   \n1178     1270                          Back to the Future (1985)   \n1107     1197                         Princess Bride, The (1987)   \n1110     1200                                      Aliens (1986)   \n3294     3527                                    Predator (1987)   \n1025     1097                  E.T. the Extra-Terrestrial (1982)   \n319       329                      Star Trek: Generations (1994)   \n2819     3033                                  Spaceballs (1987)   \n\n                                   Genres  RecommendationScore  UserID  \\\n1120  Action|Adventure|Romance|Sci-Fi|War             0.892266   215.0   \n2374               Action|Sci-Fi|Thriller             0.689065     NaN   \n253       Action|Adventure|Fantasy|Sci-Fi             0.656898   215.0   \n1108                     Action|Adventure             0.652265     NaN   \n1275              Action|Adventure|Sci-Fi             0.651651     NaN   \n1148               Action|Sci-Fi|Thriller             0.576768     NaN   \n2426      Action|Adventure|Fantasy|Sci-Fi             0.574397   215.0   \n2708     Action|Adventure|Sci-Fi|Thriller             0.560215   215.0   \n1106    Action|Adventure|Drama|Sci-Fi|War             0.536545     NaN   \n971                       Action|Thriller             0.506047     NaN   \n466               Action|Adventure|Sci-Fi             0.475507   215.0   \n1449       Action|Adventure|Comedy|Sci-Fi             0.443958     NaN   \n1199                     Action|Adventure             0.421959     NaN   \n1178                        Comedy|Sci-Fi             0.392819     NaN   \n1107      Action|Adventure|Comedy|Romance             0.387782   215.0   \n1110           Action|Sci-Fi|Thriller|War             0.367859     NaN   \n3294               Action|Sci-Fi|Thriller             0.367784     NaN   \n1025      Children's|Drama|Fantasy|Sci-Fi             0.353594   215.0   \n319               Action|Adventure|Sci-Fi             0.344506     NaN   \n2819                        Comedy|Sci-Fi             0.336773     NaN   \n\n      Rating    Timestamp  \n1120     5.0  976899689.0  \n2374     NaN          NaN  \n253      5.0  976899190.0  \n1108     NaN          NaN  \n1275     NaN          NaN  \n1148     NaN          NaN  \n2426     5.0  976908635.0  \n2708     4.0  976908547.0  \n1106     NaN          NaN  \n971      NaN          NaN  \n466      5.0  976899784.0  \n1449     NaN          NaN  \n1199     NaN          NaN  \n1178     NaN          NaN  \n1107     5.0  976899663.0  \n1110     NaN          NaN  \n3294     NaN          NaN  \n1025     5.0  976908468.0  \n319      NaN          NaN  \n2819     NaN          NaN  ",
      "text/html": "<div>\n<style scoped>\n    .dataframe tbody tr th:only-of-type {\n        vertical-align: middle;\n    }\n\n    .dataframe tbody tr th {\n        vertical-align: top;\n    }\n\n    .dataframe thead th {\n        text-align: right;\n    }\n</style>\n<table border=\"1\" class=\"dataframe\">\n  <thead>\n    <tr style=\"text-align: right;\">\n      <th></th>\n      <th>MovieID</th>\n      <th>Title</th>\n      <th>Genres</th>\n      <th>RecommendationScore</th>\n      <th>UserID</th>\n      <th>Rating</th>\n      <th>Timestamp</th>\n    </tr>\n  </thead>\n  <tbody>\n    <tr>\n      <th>1120</th>\n      <td>1210</td>\n      <td>Star Wars: Episode VI - Return of the Jedi (1983)</td>\n      <td>Action|Adventure|Romance|Sci-Fi|War</td>\n      <td>0.892266</td>\n      <td>215.0</td>\n      <td>5.0</td>\n      <td>976899689.0</td>\n    </tr>\n    <tr>\n      <th>2374</th>\n      <td>2571</td>\n      <td>Matrix, The (1999)</td>\n      <td>Action|Sci-Fi|Thriller</td>\n      <td>0.689065</td>\n      <td>NaN</td>\n      <td>NaN</td>\n      <td>NaN</td>\n    </tr>\n    <tr>\n      <th>253</th>\n      <td>260</td>\n      <td>Star Wars: Episode IV - A New Hope (1977)</td>\n      <td>Action|Adventure|Fantasy|Sci-Fi</td>\n      <td>0.656898</td>\n      <td>215.0</td>\n      <td>5.0</td>\n      <td>976899190.0</td>\n    </tr>\n    <tr>\n      <th>1108</th>\n      <td>1198</td>\n      <td>Raiders of the Lost Ark (1981)</td>\n      <td>Action|Adventure</td>\n      <td>0.652265</td>\n      <td>NaN</td>\n      <td>NaN</td>\n      <td>NaN</td>\n    </tr>\n    <tr>\n      <th>1275</th>\n      <td>1374</td>\n      <td>Star Trek: The Wrath of Khan (1982)</td>\n      <td>Action|Adventure|Sci-Fi</td>\n      <td>0.651651</td>\n      <td>NaN</td>\n      <td>NaN</td>\n      <td>NaN</td>\n    </tr>\n    <tr>\n      <th>1148</th>\n      <td>1240</td>\n      <td>Terminator, The (1984)</td>\n      <td>Action|Sci-Fi|Thriller</td>\n      <td>0.576768</td>\n      <td>NaN</td>\n      <td>NaN</td>\n      <td>NaN</td>\n    </tr>\n    <tr>\n      <th>2426</th>\n      <td>2628</td>\n      <td>Star Wars: Episode I - The Phantom Menace (1999)</td>\n      <td>Action|Adventure|Fantasy|Sci-Fi</td>\n      <td>0.574397</td>\n      <td>215.0</td>\n      <td>5.0</td>\n      <td>976908635.0</td>\n    </tr>\n    <tr>\n      <th>2708</th>\n      <td>2916</td>\n      <td>Total Recall (1990)</td>\n      <td>Action|Adventure|Sci-Fi|Thriller</td>\n      <td>0.560215</td>\n      <td>215.0</td>\n      <td>4.0</td>\n      <td>976908547.0</td>\n    </tr>\n    <tr>\n      <th>1106</th>\n      <td>1196</td>\n      <td>Star Wars: Episode V - The Empire Strikes Back...</td>\n      <td>Action|Adventure|Drama|Sci-Fi|War</td>\n      <td>0.536545</td>\n      <td>NaN</td>\n      <td>NaN</td>\n      <td>NaN</td>\n    </tr>\n    <tr>\n      <th>971</th>\n      <td>1036</td>\n      <td>Die Hard (1988)</td>\n      <td>Action|Thriller</td>\n      <td>0.506047</td>\n      <td>NaN</td>\n      <td>NaN</td>\n      <td>NaN</td>\n    </tr>\n    <tr>\n      <th>466</th>\n      <td>480</td>\n      <td>Jurassic Park (1993)</td>\n      <td>Action|Adventure|Sci-Fi</td>\n      <td>0.475507</td>\n      <td>215.0</td>\n      <td>5.0</td>\n      <td>976899784.0</td>\n    </tr>\n    <tr>\n      <th>1449</th>\n      <td>1580</td>\n      <td>Men in Black (1997)</td>\n      <td>Action|Adventure|Comedy|Sci-Fi</td>\n      <td>0.443958</td>\n      <td>NaN</td>\n      <td>NaN</td>\n      <td>NaN</td>\n    </tr>\n    <tr>\n      <th>1199</th>\n      <td>1291</td>\n      <td>Indiana Jones and the Last Crusade (1989)</td>\n      <td>Action|Adventure</td>\n      <td>0.421959</td>\n      <td>NaN</td>\n      <td>NaN</td>\n      <td>NaN</td>\n    </tr>\n    <tr>\n      <th>1178</th>\n      <td>1270</td>\n      <td>Back to the Future (1985)</td>\n      <td>Comedy|Sci-Fi</td>\n      <td>0.392819</td>\n      <td>NaN</td>\n      <td>NaN</td>\n      <td>NaN</td>\n    </tr>\n    <tr>\n      <th>1107</th>\n      <td>1197</td>\n      <td>Princess Bride, The (1987)</td>\n      <td>Action|Adventure|Comedy|Romance</td>\n      <td>0.387782</td>\n      <td>215.0</td>\n      <td>5.0</td>\n      <td>976899663.0</td>\n    </tr>\n    <tr>\n      <th>1110</th>\n      <td>1200</td>\n      <td>Aliens (1986)</td>\n      <td>Action|Sci-Fi|Thriller|War</td>\n      <td>0.367859</td>\n      <td>NaN</td>\n      <td>NaN</td>\n      <td>NaN</td>\n    </tr>\n    <tr>\n      <th>3294</th>\n      <td>3527</td>\n      <td>Predator (1987)</td>\n      <td>Action|Sci-Fi|Thriller</td>\n      <td>0.367784</td>\n      <td>NaN</td>\n      <td>NaN</td>\n      <td>NaN</td>\n    </tr>\n    <tr>\n      <th>1025</th>\n      <td>1097</td>\n      <td>E.T. the Extra-Terrestrial (1982)</td>\n      <td>Children's|Drama|Fantasy|Sci-Fi</td>\n      <td>0.353594</td>\n      <td>215.0</td>\n      <td>5.0</td>\n      <td>976908468.0</td>\n    </tr>\n    <tr>\n      <th>319</th>\n      <td>329</td>\n      <td>Star Trek: Generations (1994)</td>\n      <td>Action|Adventure|Sci-Fi</td>\n      <td>0.344506</td>\n      <td>NaN</td>\n      <td>NaN</td>\n      <td>NaN</td>\n    </tr>\n    <tr>\n      <th>2819</th>\n      <td>3033</td>\n      <td>Spaceballs (1987)</td>\n      <td>Comedy|Sci-Fi</td>\n      <td>0.336773</td>\n      <td>NaN</td>\n      <td>NaN</td>\n      <td>NaN</td>\n    </tr>\n  </tbody>\n</table>\n</div>"
     },
     "execution_count": 22,
     "metadata": {},
     "output_type": "execute_result"
    }
   ],
   "source": [
    "merged_df_mock.sort_values([\"RecommendationScore\"], ascending=False).head(20)"
   ]
  },
  {
   "cell_type": "markdown",
   "metadata": {},
   "source": [
    "As you can see, there are some movies that user has not watched yet and has high score based on our model. So, we can recommend them to the user."
   ]
  },
  {
   "cell_type": "markdown",
   "metadata": {},
   "source": [
    "This is the end of the tutorial. If you want, you can try to change the parameters in the code -- adding more units to the hidden layer, changing the loss functions or maybe something else to see if it changes anything. Optimization settings can also be adjusted...the number of epochs, the size of K, and the batch size are all interesting numbers to explore.\n",
    "Does the model perform better? Does it take longer to compute?\n",
    "\n",
    "Thank you for reading this notebook. Hopefully, you now have a little more understanding of the RBM model, its applications and how it works with TensorFlow."
   ]
  },
  {
   "cell_type": "markdown",
   "metadata": {},
   "source": [
    "<hr>"
   ]
  },
  {
   "cell_type": "markdown",
   "metadata": {},
   "source": [
    "## Want to learn more?\n",
    "\n",
    "You can use __Watson Studio__ to run these notebooks faster with bigger datasets.__Watson Studio__ is IBM’s leading cloud solution for data scientists, built by data scientists. With Jupyter notebooks, RStudio, Apache Spark and popular libraries pre-packaged in the cloud, __Watson Studio__ enables data scientists to collaborate on their projects without having to install anything. Join the fast-growing community of __Watson Studio__ users today with a free account at [Watson Studio](http://ibm.biz/WatsonStudioRBM).This is the end of this lesson. Thank you for reading this notebook, and good luck on your studies."
   ]
  },
  {
   "cell_type": "markdown",
   "metadata": {},
   "source": [
    "### Thank you for completing this exercise!\n",
    "\n",
    "Notebook created by: <a href = \"https://ca.linkedin.com/in/saeedaghabozorgi\">Saeed Aghabozorgi</a>, Gabriel Garcez Barros Sousa\n",
    "\n",
    "Updated to TF 2.X by  <a href=\"https://ca.linkedin.com/in/nilmeier\"> Jerome Nilmeier</a><br />\n",
    "\n",
    "Added to IBM Developer by <a href=https://www.linkedin.com/in/fawazsiddiqi/> Mohammad Fawaz Siddiqi </a> <br/>"
   ]
  },
  {
   "cell_type": "markdown",
   "metadata": {},
   "source": [
    "<hr>\n",
    "\n",
    "Copyright &copy; 2020 [Cognitive Class](https://cocl.us/DX0108EN_CC). This notebook and its source code are released under the terms of the [MIT License](https://bigdatauniversity.com/mit-license/)."
   ]
  }
 ],
 "metadata": {
  "kernelspec": {
   "display_name": "Python 3 (ipykernel)",
   "language": "python",
   "name": "python3"
  },
  "language_info": {
   "codemirror_mode": {
    "name": "ipython",
    "version": 3
   },
   "file_extension": ".py",
   "mimetype": "text/x-python",
   "name": "python",
   "nbconvert_exporter": "python",
   "pygments_lexer": "ipython3",
   "version": "3.8.10"
  },
  "widgets": {
   "state": {},
   "version": "1.1.2"
  }
 },
 "nbformat": 4,
 "nbformat_minor": 2
}